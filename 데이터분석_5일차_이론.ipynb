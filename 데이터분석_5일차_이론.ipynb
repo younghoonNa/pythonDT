{
  "nbformat": 4,
  "nbformat_minor": 0,
  "metadata": {
    "colab": {
      "name": "한림대 데이터분석 5일차",
      "provenance": [],
      "collapsed_sections": [],
      "include_colab_link": true
    },
    "kernelspec": {
      "name": "python3",
      "display_name": "Python 3"
    },
    "language_info": {
      "name": "python"
    }
  },
  "cells": [
    {
      "cell_type": "markdown",
      "metadata": {
        "id": "view-in-github",
        "colab_type": "text"
      },
      "source": [
        "<a href=\"https://colab.research.google.com/github/younghoonNa/pythonDT/blob/main/%EB%8D%B0%EC%9D%B4%ED%84%B0%EB%B6%84%EC%84%9D_5%EC%9D%BC%EC%B0%A8_%EC%9D%B4%EB%A1%A0.ipynb\" target=\"_parent\"><img src=\"https://colab.research.google.com/assets/colab-badge.svg\" alt=\"Open In Colab\"/></a>"
      ]
    },
    {
      "cell_type": "code",
      "execution_count": null,
      "metadata": {
        "id": "2IJ7_VTq-yqr"
      },
      "outputs": [],
      "source": [
        "import numpy as np\n",
        "import pandas as pd\n",
        "import matplotlib.pyplot as plt\n",
        "import seaborn as sns"
      ]
    },
    {
      "cell_type": "code",
      "source": [
        "from sklearn.datasets import load_boston\n",
        "boston = load_boston()"
      ],
      "metadata": {
        "id": "5EMIxuOGQvaU"
      },
      "execution_count": null,
      "outputs": []
    },
    {
      "cell_type": "code",
      "source": [
        "# 표준화 적용\n",
        "from sklearn.preprocessing import StandardScaler\n",
        "scaler = StandardScaler() # 변환기 생성\n",
        "scaler.fit(boston['data']) # 각 컬럼의 평균과 표준편차를 알아내는 작업\n",
        "x_scaled = scaler.transform(boston['data']) # 표준화 적용\n",
        "pd.DataFrame(x_scaled).describe().round(2)"
      ],
      "metadata": {
        "id": "v6UPmWuGQ-n6"
      },
      "execution_count": null,
      "outputs": []
    },
    {
      "cell_type": "code",
      "source": [
        "# 최소 최대 정규화 적용\n",
        "from sklearn.preprocessing import MinMaxScaler\n",
        "scaler = MinMaxScaler()\n",
        "x_scaled = scaler.fit_transform(boston['data'])\n",
        "pd.DataFrame(x_scaled).describe().round(2)"
      ],
      "metadata": {
        "id": "qKfx2WkvSNwU"
      },
      "execution_count": null,
      "outputs": []
    },
    {
      "cell_type": "code",
      "source": [
        "from sklearn.model_selection import train_test_split\n",
        "x_train, x_test, y_train, y_test = train_test_split(x_scaled, boston['target'], random_state=0)\n",
        "\n",
        "from sklearn.linear_model import LinearRegression\n",
        "model = LinearRegression().fit(x_train, y_train)\n",
        "model.score(x_train, y_train), model.score(x_test, y_test)"
      ],
      "metadata": {
        "colab": {
          "base_uri": "https://localhost:8080/"
        },
        "id": "DtglMpiISwBn",
        "outputId": "1ce08103-bce6-44f9-9518-ab5ff654c805"
      },
      "execution_count": null,
      "outputs": [
        {
          "output_type": "execute_result",
          "data": {
            "text/plain": [
              "(0.7697699488741149, 0.6354638433202123)"
            ]
          },
          "metadata": {},
          "execution_count": 10
        }
      ]
    },
    {
      "cell_type": "code",
      "source": [
        "# 다항변환 적용\n",
        "from sklearn.preprocessing import PolynomialFeatures\n",
        "P = PolynomialFeatures(degree=2, include_bias=False)\n",
        "x_poly = P.fit_transform(boston['data']) # 다항변환 및 상호교차항 적용\n",
        "boston['data'].shape, x_poly.shape"
      ],
      "metadata": {
        "colab": {
          "base_uri": "https://localhost:8080/"
        },
        "id": "Ktbv9RXXTjE0",
        "outputId": "64466ce6-f5ef-4324-e749-f21ed94ac721"
      },
      "execution_count": null,
      "outputs": [
        {
          "output_type": "execute_result",
          "data": {
            "text/plain": [
              "((506, 13), (506, 104))"
            ]
          },
          "metadata": {},
          "execution_count": 11
        }
      ]
    },
    {
      "cell_type": "code",
      "source": [
        "P.get_feature_names_out() # 변환된 컬럼명 정보 조회"
      ],
      "metadata": {
        "id": "Cb7vq18DXOgF"
      },
      "execution_count": null,
      "outputs": []
    },
    {
      "cell_type": "code",
      "source": [
        "x_train, x_test, y_train, y_test = train_test_split(x_poly, boston['target'], random_state=0)\n",
        "model = LinearRegression().fit(x_train, y_train)\n",
        "model.score(x_train, y_train), model.score(x_test, y_test)"
      ],
      "metadata": {
        "colab": {
          "base_uri": "https://localhost:8080/"
        },
        "id": "QNPs-BrXXTnc",
        "outputId": "4a84afb8-7ef3-4e68-9f80-e02e9afebc7c"
      },
      "execution_count": null,
      "outputs": [
        {
          "output_type": "execute_result",
          "data": {
            "text/plain": [
              "(0.9520519609032728, 0.607472195965229)"
            ]
          },
          "metadata": {},
          "execution_count": 15
        }
      ]
    },
    {
      "cell_type": "code",
      "source": [
        "from sklearn.linear_model import Ridge\n",
        "model = Ridge(alpha=2500).fit(x_train, y_train)\n",
        "model.score(x_train, y_train), model.score(x_test, y_test)"
      ],
      "metadata": {
        "colab": {
          "base_uri": "https://localhost:8080/"
        },
        "id": "CC13lWJqXq90",
        "outputId": "b5fbd218-d605-4424-e8a8-63700a48764c"
      },
      "execution_count": null,
      "outputs": [
        {
          "output_type": "execute_result",
          "data": {
            "text/plain": [
              "(0.91725906854018, 0.7394691032074603)"
            ]
          },
          "metadata": {},
          "execution_count": 19
        }
      ]
    },
    {
      "cell_type": "code",
      "source": [
        "from sklearn.linear_model import Lasso\n",
        "model = Lasso(alpha=1).fit(x_train, y_train)\n",
        "model.score(x_train, y_train), model.score(x_test, y_test)"
      ],
      "metadata": {
        "colab": {
          "base_uri": "https://localhost:8080/"
        },
        "id": "j3LWoEgsfuY5",
        "outputId": "d33e3b1d-75c3-4f90-bc56-e1cc8a7f8611"
      },
      "execution_count": null,
      "outputs": [
        {
          "output_type": "stream",
          "name": "stderr",
          "text": [
            "/usr/local/lib/python3.7/dist-packages/sklearn/linear_model/_coordinate_descent.py:648: ConvergenceWarning: Objective did not converge. You might want to increase the number of iterations, check the scale of the features or consider increasing regularisation. Duality gap: 1.749e+03, tolerance: 3.233e+00\n",
            "  coef_, l1_reg, l2_reg, X, y, max_iter, tol, rng, random, positive\n"
          ]
        },
        {
          "output_type": "execute_result",
          "data": {
            "text/plain": [
              "(0.9068684337013593, 0.7280316827205046)"
            ]
          },
          "metadata": {},
          "execution_count": 20
        }
      ]
    },
    {
      "cell_type": "code",
      "source": [
        "len(model.coef_), len(model.coef_[model.coef_ != 0 ])"
      ],
      "metadata": {
        "colab": {
          "base_uri": "https://localhost:8080/"
        },
        "id": "7-AQ1DmQhsk7",
        "outputId": "17fbf81e-6a1c-493c-f50e-8baecf7d87f1"
      },
      "execution_count": null,
      "outputs": [
        {
          "output_type": "execute_result",
          "data": {
            "text/plain": [
              "(104, 55)"
            ]
          },
          "metadata": {},
          "execution_count": 24
        }
      ]
    },
    {
      "cell_type": "code",
      "source": [
        "x = np.array([1,2,3,4,5,6,7,8,9,11,13])\n",
        "y = np.array([0,0,0,0,0,0,0,1,1,1,1])\n",
        "plt.scatter(x, y)\n",
        "plt.show()"
      ],
      "metadata": {
        "id": "7TUjSTEXhw25"
      },
      "execution_count": null,
      "outputs": []
    },
    {
      "cell_type": "code",
      "source": [
        "model = LinearRegression().fit(x.reshape(-1, 1), y)\n",
        "plt.scatter(x, y)\n",
        "plt.plot(x, model.predict(x.reshape(-1, 1)), color='red')\n",
        "plt.show()"
      ],
      "metadata": {
        "colab": {
          "base_uri": "https://localhost:8080/",
          "height": 265
        },
        "id": "j56LgV6ojXkT",
        "outputId": "23f8b5bc-fda7-4faf-c460-1af03a6185ff"
      },
      "execution_count": null,
      "outputs": [
        {
          "output_type": "display_data",
          "data": {
            "image/png": "[encoded data removed]",
            "text/plain": [
              "<Figure size 432x288 with 1 Axes>"
            ]
          },
          "metadata": {
            "needs_background": "light"
          }
        }
      ]
    },
    {
      "cell_type": "code",
      "source": [
        "from sklearn.linear_model import LogisticRegression\n",
        "model = LogisticRegression().fit(x.reshape(-1, 1), y)\n",
        "plt.scatter(x, y)\n",
        "plt.plot(x, model.predict(x.reshape(-1, 1)), color='red')\n",
        "plt.show()"
      ],
      "metadata": {
        "colab": {
          "base_uri": "https://localhost:8080/",
          "height": 265
        },
        "id": "9u04YytSjdq3",
        "outputId": "b47af9e8-be22-4b8d-de7a-adb99e5a9817"
      },
      "execution_count": null,
      "outputs": [
        {
          "output_type": "display_data",
          "data": {
            "image/png": "[encoded data removed]",
            "text/plain": [
              "<Figure size 432x288 with 1 Axes>"
            ]
          },
          "metadata": {
            "needs_background": "light"
          }
        }
      ]
    },
    {
      "cell_type": "code",
      "source": [
        "from sklearn.datasets import load_breast_cancer\n",
        "cancer = load_breast_cancer() # 특성의 값을 이용해서 악성 종양 or 양성 종양 분류\n",
        "cancer['target'] # 0 or 1 > 범주형 > 분류 모델 "
      ],
      "metadata": {
        "id": "Z84ix2L-mA6_"
      },
      "execution_count": null,
      "outputs": []
    },
    {
      "cell_type": "code",
      "source": [
        "cancer['target_names']\n",
        "# 0 : 'malignant' > 악성\n",
        "# 1 : 'benign'    > 양성"
      ],
      "metadata": {
        "colab": {
          "base_uri": "https://localhost:8080/"
        },
        "id": "6zrmuV3i7Ggj",
        "outputId": "601ce981-9cc4-4a7e-8c16-36141fd1e114"
      },
      "execution_count": null,
      "outputs": [
        {
          "output_type": "execute_result",
          "data": {
            "text/plain": [
              "array(['malignant', 'benign'], dtype='<U9')"
            ]
          },
          "metadata": {},
          "execution_count": 34
        }
      ]
    },
    {
      "cell_type": "code",
      "source": [
        "from sklearn.model_selection import train_test_split\n",
        "x_train, x_test, y_train, y_test =\\\n",
        "    train_test_split(cancer['data'], cancer['target'], random_state=0)"
      ],
      "metadata": {
        "id": "pyD3vONj7b_5"
      },
      "execution_count": null,
      "outputs": []
    },
    {
      "cell_type": "code",
      "source": [
        "from sklearn.linear_model import LogisticRegression\n",
        "model = LogisticRegression(max_iter=100000).fit(x_train, y_train)\n",
        "model.score(x_train, y_train), model.score(x_test, y_test)\n",
        "# ConvergenceWarning : 수렴 경고 > 학습 횟수를 증가"
      ],
      "metadata": {
        "colab": {
          "base_uri": "https://localhost:8080/"
        },
        "id": "HVsOFYSk73ga",
        "outputId": "e32e0328-f60e-4a20-b2cb-7fdb7fd6f61f"
      },
      "execution_count": null,
      "outputs": [
        {
          "output_type": "execute_result",
          "data": {
            "text/plain": [
              "(0.960093896713615, 0.951048951048951)"
            ]
          },
          "metadata": {},
          "execution_count": 38
        }
      ]
    },
    {
      "cell_type": "code",
      "source": [
        "model.predict(x_test) # 예측 레이블\n",
        "model.predict_proba(x_test) # 예측 확률 (분류모델)\n",
        "model.decision_function(x_test) # 회귀식의 계산 결과 \n",
        "# 회귀식의 계산 결과  > sigmoid > 확률 > cutoff > 레이블"
      ],
      "metadata": {
        "id": "O5l19DB-8dDO"
      },
      "execution_count": null,
      "outputs": []
    },
    {
      "cell_type": "code",
      "source": [
        "import numpy as np \n",
        "def sigmoid(x):\n",
        "    return 1 / ( 1 + np.exp(-x))\n",
        "x_range = np.arange(-10, 10.1, 0.1)\n",
        "y_range = [sigmoid(x) for x in x_range]\n",
        "plt.plot(x_range, y_range)"
      ],
      "metadata": {
        "id": "XZlcmtI89Qm9"
      },
      "execution_count": null,
      "outputs": []
    },
    {
      "cell_type": "code",
      "source": [
        "model.decision_function(x_test)[0] # -5.3699247474945935\n",
        "sigmoid(-5.3699247474945935)       # 0.0046329177283744435 > Y가 1일 확률\n",
        "model.predict_proba(x_test)[0]\n",
        "model.predict(x_test)[0]"
      ],
      "metadata": {
        "id": "zHMLbmcz-HrR"
      },
      "execution_count": null,
      "outputs": []
    },
    {
      "cell_type": "code",
      "source": [
        "from sklearn.datasets import load_digits\n",
        "digits = load_digits() # 손글씨 데이터 세트 (0 ~ 9) > 총 범주 10개\n",
        "digits.keys()"
      ],
      "metadata": {
        "colab": {
          "base_uri": "https://localhost:8080/"
        },
        "id": "dPWYaVRk-Pta",
        "outputId": "855671e9-3896-4a3e-be32-529e92ba6bac"
      },
      "execution_count": null,
      "outputs": [
        {
          "output_type": "execute_result",
          "data": {
            "text/plain": [
              "dict_keys(['data', 'target', 'frame', 'feature_names', 'target_names', 'images', 'DESCR'])"
            ]
          },
          "metadata": {},
          "execution_count": 47
        }
      ]
    },
    {
      "cell_type": "code",
      "source": [
        "x_train, x_test, y_train, y_test = train_test_split(digits['data'], digits['target'], random_state=0)\n",
        "model = LogisticRegression(max_iter=10000).fit(x_train, y_train)\n",
        "model.coef_.shape # (10, 64) > (모델의개수, 특성의 개수)"
      ],
      "metadata": {
        "colab": {
          "base_uri": "https://localhost:8080/"
        },
        "id": "k4vfA-Xk_BHn",
        "outputId": "5a851cc9-2890-4673-d0c3-56c8451ac240"
      },
      "execution_count": null,
      "outputs": [
        {
          "output_type": "execute_result",
          "data": {
            "text/plain": [
              "(10, 64)"
            ]
          },
          "metadata": {},
          "execution_count": 53
        }
      ]
    },
    {
      "cell_type": "code",
      "source": [
        "from sklearn.datasets import load_breast_cancer\n",
        "cancer = load_breast_cancer()\n",
        "x_train, x_test, y_train, y_test =\\\n",
        "    train_test_split(cancer['data'], cancer['target'], random_state=0)"
      ],
      "metadata": {
        "id": "w0JAMJEj_y78"
      },
      "execution_count": null,
      "outputs": []
    },
    {
      "cell_type": "code",
      "source": [
        "from sklearn.tree import DecisionTreeClassifier\n",
        "model = DecisionTreeClassifier(random_state=0).fit(x_train, y_train)\n",
        "model.score(x_train, y_train), model.score(x_test, y_test)\n",
        "# DecisionTree : 학습을 할때마다 특성의 순서를 셔플 후 사용 "
      ],
      "metadata": {
        "colab": {
          "base_uri": "https://localhost:8080/"
        },
        "id": "J_WXXRVDLPTQ",
        "outputId": "12c180b0-e44e-4de5-fa38-56b9f4a326d5"
      },
      "execution_count": null,
      "outputs": [
        {
          "output_type": "execute_result",
          "data": {
            "text/plain": [
              "(1.0, 0.8811188811188811)"
            ]
          },
          "metadata": {},
          "execution_count": 75
        }
      ]
    },
    {
      "cell_type": "code",
      "source": [
        "# 특성 중요도 \n",
        "model.feature_importances_"
      ],
      "metadata": {
        "id": "DH1cj6JdLXcy"
      },
      "execution_count": null,
      "outputs": []
    },
    {
      "cell_type": "code",
      "source": [
        "import pandas as pd\n",
        "fi = pd.Series(model.feature_importances_, index=cancer['feature_names'])\n",
        "fi[fi!=0].sort_values().plot(kind='barh')"
      ],
      "metadata": {
        "colab": {
          "base_uri": "https://localhost:8080/",
          "height": 283
        },
        "id": "1TbyU3xJMCOV",
        "outputId": "e5825893-f7a3-4443-873f-5ad8d566a00d"
      },
      "execution_count": null,
      "outputs": [
        {
          "output_type": "execute_result",
          "data": {
            "text/plain": [
              "<matplotlib.axes._subplots.AxesSubplot at 0x7ff24bc1ead0>"
            ]
          },
          "metadata": {},
          "execution_count": 66
        },
        {
          "output_type": "display_data",
          "data": {
            "image/png": "[encoded data removed]",
            "text/plain": [
              "<Figure size 432x288 with 1 Axes>"
            ]
          },
          "metadata": {
            "needs_background": "light"
          }
        }
      ]
    },
    {
      "cell_type": "code",
      "source": [
        "## using graphviz \n",
        "!apt-get -qq install -y graphviz && pip install -q pydot\n",
        "import pydot\n",
        "## 아래 있는것은 필수는 아닌데, 가끔 에러가 생길 때가 있어서, 그냥 같이 해줌. \n",
        "!apt-get install graphviz libgraphviz-dev pkg-config\n",
        "!pip install pygraphviz\n",
        "import pygraphviz"
      ],
      "metadata": {
        "id": "G9U78GrYMThM"
      },
      "execution_count": null,
      "outputs": []
    },
    {
      "cell_type": "code",
      "source": [
        "from sklearn.tree import export_graphviz\n",
        "export_graphviz(model, # 시각화할 모델\n",
        "                out_file='model.dot', # 저장할 파일명\n",
        "                feature_names=cancer['feature_names'], # 컬럼명\n",
        "                class_names=cancer['target_names'], # 레이블명\n",
        "                impurity=True, # 불순도 출력 유무\n",
        "                filled=True) # 노드에 과반 범주 색상 부여 유무"
      ],
      "metadata": {
        "id": "6S_LCdsxM7KD"
      },
      "execution_count": null,
      "outputs": []
    },
    {
      "cell_type": "code",
      "source": [
        "import graphviz\n",
        "with open('model.dot') as f:\n",
        "    data = f.read()\n",
        "graphviz.Source(data).render('model') # pdf 저장\n",
        "graphviz.Source(data) # 출력창에 출력"
      ],
      "metadata": {
        "colab": {
          "base_uri": "https://localhost:8080/",
          "height": 35
        },
        "id": "aAMANb88NvXe",
        "outputId": "d8401140-c3aa-4e4b-815a-a1c1d69aad52"
      },
      "execution_count": null,
      "outputs": [
        {
          "output_type": "execute_result",
          "data": {
            "application/vnd.google.colaboratory.intrinsic+json": {
              "type": "string"
            },
            "text/plain": [
              "'model.pdf'"
            ]
          },
          "metadata": {},
          "execution_count": 71
        }
      ]
    },
    {
      "cell_type": "code",
      "source": [
        "from sklearn.ensemble import RandomForestClassifier\n",
        "model = RandomForestClassifier().fit(x_train, y_train)\n",
        "model.score(x_train, y_train), model.score(x_test, y_test)"
      ],
      "metadata": {
        "colab": {
          "base_uri": "https://localhost:8080/"
        },
        "id": "DnsLcEFIOHFc",
        "outputId": "dcede5f0-31ab-455e-e802-38f485f16c96"
      },
      "execution_count": null,
      "outputs": [
        {
          "output_type": "execute_result",
          "data": {
            "text/plain": [
              "(1.0, 0.972027972027972)"
            ]
          },
          "metadata": {},
          "execution_count": 74
        }
      ]
    },
    {
      "cell_type": "code",
      "source": [
        "from sklearn.ensemble import GradientBoostingClassifier\n",
        "model = GradientBoostingClassifier().fit(x_train, y_train)\n",
        "model.score(x_train, y_train), model.score(x_test, y_test)"
      ],
      "metadata": {
        "colab": {
          "base_uri": "https://localhost:8080/"
        },
        "id": "UfgFw5VQXr2g",
        "outputId": "f5c7e443-9830-4917-d862-94bbd5b2e9cd"
      },
      "execution_count": null,
      "outputs": [
        {
          "output_type": "execute_result",
          "data": {
            "text/plain": [
              "(1.0, 0.972027972027972)"
            ]
          },
          "metadata": {},
          "execution_count": 76
        }
      ]
    },
    {
      "cell_type": "code",
      "source": [
        "x_train, x_test, y_train, y_test = train_test_split(boston['data'], boston['target'], random_state=0)\n",
        "from sklearn.linear_model import LinearRegression\n",
        "model = LinearRegression().fit(x_train, y_train)\n",
        "print('LinearRegression', model.score(x_train, y_train), model.score(x_test, y_test))\n",
        "\n",
        "from sklearn.ensemble import RandomForestRegressor\n",
        "model = RandomForestRegressor().fit(x_train, y_train)\n",
        "model.score(x_train, y_train), model.score(x_test, y_test)\n",
        "print('RandomForestRegressor', model.score(x_train, y_train), model.score(x_test, y_test))\n",
        "\n",
        "from sklearn.ensemble import GradientBoostingRegressor\n",
        "model = GradientBoostingRegressor().fit(x_train, y_train)\n",
        "model.score(x_train, y_train), model.score(x_test, y_test)\n",
        "print('GradientBoostingRegressor', model.score(x_train, y_train), model.score(x_test, y_test))"
      ],
      "metadata": {
        "colab": {
          "base_uri": "https://localhost:8080/"
        },
        "id": "Li5xHqkIX11O",
        "outputId": "2aa7d970-8429-4b5f-e5e4-a6e99b56a570"
      },
      "execution_count": null,
      "outputs": [
        {
          "output_type": "stream",
          "name": "stdout",
          "text": [
            "LinearRegression 0.7697699488741149 0.635463843320211\n",
            "RandomForestRegressor 0.9803919053376355 0.78628866061438\n",
            "GradientBoostingRegressor 0.9829864654169255 0.822792777833321\n"
          ]
        }
      ]
    },
    {
      "cell_type": "code",
      "source": [
        ""
      ],
      "metadata": {
        "id": "W3XfJEMBYKB9"
      },
      "execution_count": null,
      "outputs": []
    }
  ]
}