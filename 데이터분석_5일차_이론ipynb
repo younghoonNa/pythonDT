{
  "nbformat": 4,
  "nbformat_minor": 0,
  "metadata": {
    "colab": {
      "name": "데이터분석_5일차_이론ipynb",
      "provenance": [],
      "authorship_tag": "ABX9TyN5jONWGKhqij+/ZNzwUryb",
      "include_colab_link": true
    },
    "kernelspec": {
      "name": "python3",
      "display_name": "Python 3"
    },
    "language_info": {
      "name": "python"
    }
  },
  "cells": [
    {
      "cell_type": "markdown",
      "metadata": {
        "id": "view-in-github",
        "colab_type": "text"
      },
      "source": [
        "<a href=\"https://colab.research.google.com/github/younghoonNa/pythonDT/blob/main/%EB%8D%B0%EC%9D%B4%ED%84%B0%EB%B6%84%EC%84%9D_5%EC%9D%BC%EC%B0%A8_%EC%9D%B4%EB%A1%A0ipynb\" target=\"_parent\"><img src=\"https://colab.research.google.com/assets/colab-badge.svg\" alt=\"Open In Colab\"/></a>"
      ]
    },
    {
      "cell_type": "code",
      "execution_count": 102,
      "metadata": {
        "id": "TEGPDTyEQx0y"
      },
      "outputs": [],
      "source": [
        "import numpy as np\n",
        "import pandas as pd\n",
        "import matplotlib.pyplot as plt\n",
        "import seaborn as sns"
      ]
    },
    {
      "cell_type": "code",
      "source": [
        "from sklearn.datasets import load_boston\n",
        "boston = load_boston()"
      ],
      "metadata": {
        "colab": {
          "base_uri": "https://localhost:8080/"
        },
        "id": "k4UTk4E9Q6Sa",
        "outputId": "513e9e5b-ee60-4f00-a134-bd3d53fd0b64"
      },
      "execution_count": 103,
      "outputs": [
        {
          "output_type": "stream",
          "name": "stderr",
          "text": [
            "/usr/local/lib/python3.7/dist-packages/sklearn/utils/deprecation.py:87: FutureWarning: Function load_boston is deprecated; `load_boston` is deprecated in 1.0 and will be removed in 1.2.\n",
            "\n",
            "    The Boston housing prices dataset has an ethical problem. You can refer to\n",
            "    the documentation of this function for further details.\n",
            "\n",
            "    The scikit-learn maintainers therefore strongly discourage the use of this\n",
            "    dataset unless the purpose of the code is to study and educate about\n",
            "    ethical issues in data science and machine learning.\n",
            "\n",
            "    In this special case, you can fetch the dataset from the original\n",
            "    source::\n",
            "\n",
            "        import pandas as pd\n",
            "        import numpy as np\n",
            "\n",
            "\n",
            "        data_url = \"http://lib.stat.cmu.edu/datasets/boston\"\n",
            "        raw_df = pd.read_csv(data_url, sep=\"\\s+\", skiprows=22, header=None)\n",
            "        data = np.hstack([raw_df.values[::2, :], raw_df.values[1::2, :2]])\n",
            "        target = raw_df.values[1::2, 2]\n",
            "\n",
            "    Alternative datasets include the California housing dataset (i.e.\n",
            "    :func:`~sklearn.datasets.fetch_california_housing`) and the Ames housing\n",
            "    dataset. You can load the datasets as follows::\n",
            "\n",
            "        from sklearn.datasets import fetch_california_housing\n",
            "        housing = fetch_california_housing()\n",
            "\n",
            "    for the California housing dataset and::\n",
            "\n",
            "        from sklearn.datasets import fetch_openml\n",
            "        housing = fetch_openml(name=\"house_prices\", as_frame=True)\n",
            "\n",
            "    for the Ames housing dataset.\n",
            "    \n",
            "  warnings.warn(msg, category=FutureWarning)\n"
          ]
        }
      ]
    },
    {
      "cell_type": "code",
      "source": [
        "boston['data']"
      ],
      "metadata": {
        "colab": {
          "base_uri": "https://localhost:8080/"
        },
        "id": "wjIfWRCfSqzF",
        "outputId": "19f921ee-8aac-4fc9-d89c-253699447554"
      },
      "execution_count": 104,
      "outputs": [
        {
          "output_type": "execute_result",
          "data": {
            "text/plain": [
              "array([[6.3200e-03, 1.8000e+01, 2.3100e+00, ..., 1.5300e+01, 3.9690e+02,\n",
              "        4.9800e+00],\n",
              "       [2.7310e-02, 0.0000e+00, 7.0700e+00, ..., 1.7800e+01, 3.9690e+02,\n",
              "        9.1400e+00],\n",
              "       [2.7290e-02, 0.0000e+00, 7.0700e+00, ..., 1.7800e+01, 3.9283e+02,\n",
              "        4.0300e+00],\n",
              "       ...,\n",
              "       [6.0760e-02, 0.0000e+00, 1.1930e+01, ..., 2.1000e+01, 3.9690e+02,\n",
              "        5.6400e+00],\n",
              "       [1.0959e-01, 0.0000e+00, 1.1930e+01, ..., 2.1000e+01, 3.9345e+02,\n",
              "        6.4800e+00],\n",
              "       [4.7410e-02, 0.0000e+00, 1.1930e+01, ..., 2.1000e+01, 3.9690e+02,\n",
              "        7.8800e+00]])"
            ]
          },
          "metadata": {},
          "execution_count": 104
        }
      ]
    },
    {
      "cell_type": "code",
      "source": [
        "# 표준화 적용\n",
        "from sklearn.preprocessing import StandardScaler\n",
        "scaler = StandardScaler() # 변환기 생성\n",
        "scaler.fit(boston['data']) # 각 컬럼의 평균과 표준편차를 알아내는 작업\n",
        "x_scaled = scaler.transform(boston['data']) # 표준화 적용\n",
        "pd.DataFrame(x_scaled).describe().round(2)"
      ],
      "metadata": {
        "colab": {
          "base_uri": "https://localhost:8080/",
          "height": 300
        },
        "id": "L4_Y7-KoRG_B",
        "outputId": "dabd068d-f7d6-4e30-d70c-638841248439"
      },
      "execution_count": 105,
      "outputs": [
        {
          "output_type": "execute_result",
          "data": {
            "text/html": [
              "\n",
              "  <div id=\"df-61ffee01-7067-49b3-b4ea-33956150dd19\">\n",
              "    <div class=\"colab-df-container\">\n",
              "      <div>\n",
              "<style scoped>\n",
              "    .dataframe tbody tr th:only-of-type {\n",
              "        vertical-align: middle;\n",
              "    }\n",
              "\n",
              "    .dataframe tbody tr th {\n",
              "        vertical-align: top;\n",
              "    }\n",
              "\n",
              "    .dataframe thead th {\n",
              "        text-align: right;\n",
              "    }\n",
              "</style>\n",
              "<table border=\"1\" class=\"dataframe\">\n",
              "  <thead>\n",
              "    <tr style=\"text-align: right;\">\n",
              "      <th></th>\n",
              "      <th>0</th>\n",
              "      <th>1</th>\n",
              "      <th>2</th>\n",
              "      <th>3</th>\n",
              "      <th>4</th>\n",
              "      <th>5</th>\n",
              "      <th>6</th>\n",
              "      <th>7</th>\n",
              "      <th>8</th>\n",
              "      <th>9</th>\n",
              "      <th>10</th>\n",
              "      <th>11</th>\n",
              "      <th>12</th>\n",
              "    </tr>\n",
              "  </thead>\n",
              "  <tbody>\n",
              "    <tr>\n",
              "      <th>count</th>\n",
              "      <td>506.00</td>\n",
              "      <td>506.00</td>\n",
              "      <td>506.00</td>\n",
              "      <td>506.00</td>\n",
              "      <td>506.00</td>\n",
              "      <td>506.00</td>\n",
              "      <td>506.00</td>\n",
              "      <td>506.00</td>\n",
              "      <td>506.00</td>\n",
              "      <td>506.00</td>\n",
              "      <td>506.00</td>\n",
              "      <td>506.00</td>\n",
              "      <td>506.00</td>\n",
              "    </tr>\n",
              "    <tr>\n",
              "      <th>mean</th>\n",
              "      <td>-0.00</td>\n",
              "      <td>-0.00</td>\n",
              "      <td>-0.00</td>\n",
              "      <td>0.00</td>\n",
              "      <td>0.00</td>\n",
              "      <td>-0.00</td>\n",
              "      <td>-0.00</td>\n",
              "      <td>0.00</td>\n",
              "      <td>0.00</td>\n",
              "      <td>-0.00</td>\n",
              "      <td>-0.00</td>\n",
              "      <td>0.00</td>\n",
              "      <td>-0.00</td>\n",
              "    </tr>\n",
              "    <tr>\n",
              "      <th>std</th>\n",
              "      <td>1.00</td>\n",
              "      <td>1.00</td>\n",
              "      <td>1.00</td>\n",
              "      <td>1.00</td>\n",
              "      <td>1.00</td>\n",
              "      <td>1.00</td>\n",
              "      <td>1.00</td>\n",
              "      <td>1.00</td>\n",
              "      <td>1.00</td>\n",
              "      <td>1.00</td>\n",
              "      <td>1.00</td>\n",
              "      <td>1.00</td>\n",
              "      <td>1.00</td>\n",
              "    </tr>\n",
              "    <tr>\n",
              "      <th>min</th>\n",
              "      <td>-0.42</td>\n",
              "      <td>-0.49</td>\n",
              "      <td>-1.56</td>\n",
              "      <td>-0.27</td>\n",
              "      <td>-1.47</td>\n",
              "      <td>-3.88</td>\n",
              "      <td>-2.34</td>\n",
              "      <td>-1.27</td>\n",
              "      <td>-0.98</td>\n",
              "      <td>-1.31</td>\n",
              "      <td>-2.71</td>\n",
              "      <td>-3.91</td>\n",
              "      <td>-1.53</td>\n",
              "    </tr>\n",
              "    <tr>\n",
              "      <th>25%</th>\n",
              "      <td>-0.41</td>\n",
              "      <td>-0.49</td>\n",
              "      <td>-0.87</td>\n",
              "      <td>-0.27</td>\n",
              "      <td>-0.91</td>\n",
              "      <td>-0.57</td>\n",
              "      <td>-0.84</td>\n",
              "      <td>-0.81</td>\n",
              "      <td>-0.64</td>\n",
              "      <td>-0.77</td>\n",
              "      <td>-0.49</td>\n",
              "      <td>0.21</td>\n",
              "      <td>-0.80</td>\n",
              "    </tr>\n",
              "    <tr>\n",
              "      <th>50%</th>\n",
              "      <td>-0.39</td>\n",
              "      <td>-0.49</td>\n",
              "      <td>-0.21</td>\n",
              "      <td>-0.27</td>\n",
              "      <td>-0.14</td>\n",
              "      <td>-0.11</td>\n",
              "      <td>0.32</td>\n",
              "      <td>-0.28</td>\n",
              "      <td>-0.52</td>\n",
              "      <td>-0.46</td>\n",
              "      <td>0.27</td>\n",
              "      <td>0.38</td>\n",
              "      <td>-0.18</td>\n",
              "    </tr>\n",
              "    <tr>\n",
              "      <th>75%</th>\n",
              "      <td>0.01</td>\n",
              "      <td>0.05</td>\n",
              "      <td>1.02</td>\n",
              "      <td>-0.27</td>\n",
              "      <td>0.60</td>\n",
              "      <td>0.48</td>\n",
              "      <td>0.91</td>\n",
              "      <td>0.66</td>\n",
              "      <td>1.66</td>\n",
              "      <td>1.53</td>\n",
              "      <td>0.81</td>\n",
              "      <td>0.43</td>\n",
              "      <td>0.60</td>\n",
              "    </tr>\n",
              "    <tr>\n",
              "      <th>max</th>\n",
              "      <td>9.93</td>\n",
              "      <td>3.80</td>\n",
              "      <td>2.42</td>\n",
              "      <td>3.67</td>\n",
              "      <td>2.73</td>\n",
              "      <td>3.56</td>\n",
              "      <td>1.12</td>\n",
              "      <td>3.96</td>\n",
              "      <td>1.66</td>\n",
              "      <td>1.80</td>\n",
              "      <td>1.64</td>\n",
              "      <td>0.44</td>\n",
              "      <td>3.55</td>\n",
              "    </tr>\n",
              "  </tbody>\n",
              "</table>\n",
              "</div>\n",
              "      <button class=\"colab-df-convert\" onclick=\"convertToInteractive('df-61ffee01-7067-49b3-b4ea-33956150dd19')\"\n",
              "              title=\"Convert this dataframe to an interactive table.\"\n",
              "              style=\"display:none;\">\n",
              "        \n",
              "  <svg xmlns=\"http://www.w3.org/2000/svg\" height=\"24px\"viewBox=\"0 0 24 24\"\n",
              "       width=\"24px\">\n",
              "    <path d=\"M0 0h24v24H0V0z\" fill=\"none\"/>\n",
              "    <path d=\"M18.56 5.44l.94 2.06.94-2.06 2.06-.94-2.06-.94-.94-2.06-.94 2.06-2.06.94zm-11 1L8.5 8.5l.94-2.06 2.06-.94-2.06-.94L8.5 2.5l-.94 2.06-2.06.94zm10 10l.94 2.06.94-2.06 2.06-.94-2.06-.94-.94-2.06-.94 2.06-2.06.94z\"/><path d=\"M17.41 7.96l-1.37-1.37c-.4-.4-.92-.59-1.43-.59-.52 0-1.04.2-1.43.59L10.3 9.45l-7.72 7.72c-.78.78-.78 2.05 0 2.83L4 21.41c.39.39.9.59 1.41.59.51 0 1.02-.2 1.41-.59l7.78-7.78 2.81-2.81c.8-.78.8-2.07 0-2.86zM5.41 20L4 18.59l7.72-7.72 1.47 1.35L5.41 20z\"/>\n",
              "  </svg>\n",
              "      </button>\n",
              "      \n",
              "  <style>\n",
              "    .colab-df-container {\n",
              "      display:flex;\n",
              "      flex-wrap:wrap;\n",
              "      gap: 12px;\n",
              "    }\n",
              "\n",
              "    .colab-df-convert {\n",
              "      background-color: #E8F0FE;\n",
              "      border: none;\n",
              "      border-radius: 50%;\n",
              "      cursor: pointer;\n",
              "      display: none;\n",
              "      fill: #1967D2;\n",
              "      height: 32px;\n",
              "      padding: 0 0 0 0;\n",
              "      width: 32px;\n",
              "    }\n",
              "\n",
              "    .colab-df-convert:hover {\n",
              "      background-color: #E2EBFA;\n",
              "      box-shadow: 0px 1px 2px rgba(60, 64, 67, 0.3), 0px 1px 3px 1px rgba(60, 64, 67, 0.15);\n",
              "      fill: #174EA6;\n",
              "    }\n",
              "\n",
              "    [theme=dark] .colab-df-convert {\n",
              "      background-color: #3B4455;\n",
              "      fill: #D2E3FC;\n",
              "    }\n",
              "\n",
              "    [theme=dark] .colab-df-convert:hover {\n",
              "      background-color: #434B5C;\n",
              "      box-shadow: 0px 1px 3px 1px rgba(0, 0, 0, 0.15);\n",
              "      filter: drop-shadow(0px 1px 2px rgba(0, 0, 0, 0.3));\n",
              "      fill: #FFFFFF;\n",
              "    }\n",
              "  </style>\n",
              "\n",
              "      <script>\n",
              "        const buttonEl =\n",
              "          document.querySelector('#df-61ffee01-7067-49b3-b4ea-33956150dd19 button.colab-df-convert');\n",
              "        buttonEl.style.display =\n",
              "          google.colab.kernel.accessAllowed ? 'block' : 'none';\n",
              "\n",
              "        async function convertToInteractive(key) {\n",
              "          const element = document.querySelector('#df-61ffee01-7067-49b3-b4ea-33956150dd19');\n",
              "          const dataTable =\n",
              "            await google.colab.kernel.invokeFunction('convertToInteractive',\n",
              "                                                     [key], {});\n",
              "          if (!dataTable) return;\n",
              "\n",
              "          const docLinkHtml = 'Like what you see? Visit the ' +\n",
              "            '<a target=\"_blank\" href=https://colab.research.google.com/notebooks/data_table.ipynb>data table notebook</a>'\n",
              "            + ' to learn more about interactive tables.';\n",
              "          element.innerHTML = '';\n",
              "          dataTable['output_type'] = 'display_data';\n",
              "          await google.colab.output.renderOutput(dataTable, element);\n",
              "          const docLink = document.createElement('div');\n",
              "          docLink.innerHTML = docLinkHtml;\n",
              "          element.appendChild(docLink);\n",
              "        }\n",
              "      </script>\n",
              "    </div>\n",
              "  </div>\n",
              "  "
            ],
            "text/plain": [
              "           0       1       2       3   ...      9       10      11      12\n",
              "count  506.00  506.00  506.00  506.00  ...  506.00  506.00  506.00  506.00\n",
              "mean    -0.00   -0.00   -0.00    0.00  ...   -0.00   -0.00    0.00   -0.00\n",
              "std      1.00    1.00    1.00    1.00  ...    1.00    1.00    1.00    1.00\n",
              "min     -0.42   -0.49   -1.56   -0.27  ...   -1.31   -2.71   -3.91   -1.53\n",
              "25%     -0.41   -0.49   -0.87   -0.27  ...   -0.77   -0.49    0.21   -0.80\n",
              "50%     -0.39   -0.49   -0.21   -0.27  ...   -0.46    0.27    0.38   -0.18\n",
              "75%      0.01    0.05    1.02   -0.27  ...    1.53    0.81    0.43    0.60\n",
              "max      9.93    3.80    2.42    3.67  ...    1.80    1.64    0.44    3.55\n",
              "\n",
              "[8 rows x 13 columns]"
            ]
          },
          "metadata": {},
          "execution_count": 105
        }
      ]
    },
    {
      "cell_type": "code",
      "source": [
        "boston['data']"
      ],
      "metadata": {
        "colab": {
          "base_uri": "https://localhost:8080/"
        },
        "id": "N_Rnn84pSUY3",
        "outputId": "1ff82595-1c7f-467f-a9ab-49a2f0a6ccd9"
      },
      "execution_count": 106,
      "outputs": [
        {
          "output_type": "execute_result",
          "data": {
            "text/plain": [
              "array([[6.3200e-03, 1.8000e+01, 2.3100e+00, ..., 1.5300e+01, 3.9690e+02,\n",
              "        4.9800e+00],\n",
              "       [2.7310e-02, 0.0000e+00, 7.0700e+00, ..., 1.7800e+01, 3.9690e+02,\n",
              "        9.1400e+00],\n",
              "       [2.7290e-02, 0.0000e+00, 7.0700e+00, ..., 1.7800e+01, 3.9283e+02,\n",
              "        4.0300e+00],\n",
              "       ...,\n",
              "       [6.0760e-02, 0.0000e+00, 1.1930e+01, ..., 2.1000e+01, 3.9690e+02,\n",
              "        5.6400e+00],\n",
              "       [1.0959e-01, 0.0000e+00, 1.1930e+01, ..., 2.1000e+01, 3.9345e+02,\n",
              "        6.4800e+00],\n",
              "       [4.7410e-02, 0.0000e+00, 1.1930e+01, ..., 2.1000e+01, 3.9690e+02,\n",
              "        7.8800e+00]])"
            ]
          },
          "metadata": {},
          "execution_count": 106
        }
      ]
    },
    {
      "cell_type": "code",
      "source": [
        "from sklearn.preprocessing import MinMaxScaler\n",
        "scaler = MinMaxScaler()\n",
        "x_scaled = scaler.fit_transform(boston['data'])\n",
        "pd.DataFrame(x_scaled).describe().round(2)"
      ],
      "metadata": {
        "colab": {
          "base_uri": "https://localhost:8080/",
          "height": 300
        },
        "id": "R2fTFP9nSodu",
        "outputId": "a54b9212-cb06-4226-ca96-8efefa0712dc"
      },
      "execution_count": 107,
      "outputs": [
        {
          "output_type": "execute_result",
          "data": {
            "text/html": [
              "\n",
              "  <div id=\"df-0f7b58c6-9af9-4424-b92c-62ec6d54aaf8\">\n",
              "    <div class=\"colab-df-container\">\n",
              "      <div>\n",
              "<style scoped>\n",
              "    .dataframe tbody tr th:only-of-type {\n",
              "        vertical-align: middle;\n",
              "    }\n",
              "\n",
              "    .dataframe tbody tr th {\n",
              "        vertical-align: top;\n",
              "    }\n",
              "\n",
              "    .dataframe thead th {\n",
              "        text-align: right;\n",
              "    }\n",
              "</style>\n",
              "<table border=\"1\" class=\"dataframe\">\n",
              "  <thead>\n",
              "    <tr style=\"text-align: right;\">\n",
              "      <th></th>\n",
              "      <th>0</th>\n",
              "      <th>1</th>\n",
              "      <th>2</th>\n",
              "      <th>3</th>\n",
              "      <th>4</th>\n",
              "      <th>5</th>\n",
              "      <th>6</th>\n",
              "      <th>7</th>\n",
              "      <th>8</th>\n",
              "      <th>9</th>\n",
              "      <th>10</th>\n",
              "      <th>11</th>\n",
              "      <th>12</th>\n",
              "    </tr>\n",
              "  </thead>\n",
              "  <tbody>\n",
              "    <tr>\n",
              "      <th>count</th>\n",
              "      <td>506.00</td>\n",
              "      <td>506.00</td>\n",
              "      <td>506.00</td>\n",
              "      <td>506.00</td>\n",
              "      <td>506.00</td>\n",
              "      <td>506.00</td>\n",
              "      <td>506.00</td>\n",
              "      <td>506.00</td>\n",
              "      <td>506.00</td>\n",
              "      <td>506.00</td>\n",
              "      <td>506.00</td>\n",
              "      <td>506.00</td>\n",
              "      <td>506.00</td>\n",
              "    </tr>\n",
              "    <tr>\n",
              "      <th>mean</th>\n",
              "      <td>0.04</td>\n",
              "      <td>0.11</td>\n",
              "      <td>0.39</td>\n",
              "      <td>0.07</td>\n",
              "      <td>0.35</td>\n",
              "      <td>0.52</td>\n",
              "      <td>0.68</td>\n",
              "      <td>0.24</td>\n",
              "      <td>0.37</td>\n",
              "      <td>0.42</td>\n",
              "      <td>0.62</td>\n",
              "      <td>0.90</td>\n",
              "      <td>0.30</td>\n",
              "    </tr>\n",
              "    <tr>\n",
              "      <th>std</th>\n",
              "      <td>0.10</td>\n",
              "      <td>0.23</td>\n",
              "      <td>0.25</td>\n",
              "      <td>0.25</td>\n",
              "      <td>0.24</td>\n",
              "      <td>0.13</td>\n",
              "      <td>0.29</td>\n",
              "      <td>0.19</td>\n",
              "      <td>0.38</td>\n",
              "      <td>0.32</td>\n",
              "      <td>0.23</td>\n",
              "      <td>0.23</td>\n",
              "      <td>0.20</td>\n",
              "    </tr>\n",
              "    <tr>\n",
              "      <th>min</th>\n",
              "      <td>0.00</td>\n",
              "      <td>0.00</td>\n",
              "      <td>0.00</td>\n",
              "      <td>0.00</td>\n",
              "      <td>0.00</td>\n",
              "      <td>0.00</td>\n",
              "      <td>0.00</td>\n",
              "      <td>0.00</td>\n",
              "      <td>0.00</td>\n",
              "      <td>0.00</td>\n",
              "      <td>0.00</td>\n",
              "      <td>0.00</td>\n",
              "      <td>0.00</td>\n",
              "    </tr>\n",
              "    <tr>\n",
              "      <th>25%</th>\n",
              "      <td>0.00</td>\n",
              "      <td>0.00</td>\n",
              "      <td>0.17</td>\n",
              "      <td>0.00</td>\n",
              "      <td>0.13</td>\n",
              "      <td>0.45</td>\n",
              "      <td>0.43</td>\n",
              "      <td>0.09</td>\n",
              "      <td>0.13</td>\n",
              "      <td>0.18</td>\n",
              "      <td>0.51</td>\n",
              "      <td>0.95</td>\n",
              "      <td>0.14</td>\n",
              "    </tr>\n",
              "    <tr>\n",
              "      <th>50%</th>\n",
              "      <td>0.00</td>\n",
              "      <td>0.00</td>\n",
              "      <td>0.34</td>\n",
              "      <td>0.00</td>\n",
              "      <td>0.31</td>\n",
              "      <td>0.51</td>\n",
              "      <td>0.77</td>\n",
              "      <td>0.19</td>\n",
              "      <td>0.17</td>\n",
              "      <td>0.27</td>\n",
              "      <td>0.69</td>\n",
              "      <td>0.99</td>\n",
              "      <td>0.27</td>\n",
              "    </tr>\n",
              "    <tr>\n",
              "      <th>75%</th>\n",
              "      <td>0.04</td>\n",
              "      <td>0.12</td>\n",
              "      <td>0.65</td>\n",
              "      <td>0.00</td>\n",
              "      <td>0.49</td>\n",
              "      <td>0.59</td>\n",
              "      <td>0.94</td>\n",
              "      <td>0.37</td>\n",
              "      <td>1.00</td>\n",
              "      <td>0.91</td>\n",
              "      <td>0.81</td>\n",
              "      <td>1.00</td>\n",
              "      <td>0.42</td>\n",
              "    </tr>\n",
              "    <tr>\n",
              "      <th>max</th>\n",
              "      <td>1.00</td>\n",
              "      <td>1.00</td>\n",
              "      <td>1.00</td>\n",
              "      <td>1.00</td>\n",
              "      <td>1.00</td>\n",
              "      <td>1.00</td>\n",
              "      <td>1.00</td>\n",
              "      <td>1.00</td>\n",
              "      <td>1.00</td>\n",
              "      <td>1.00</td>\n",
              "      <td>1.00</td>\n",
              "      <td>1.00</td>\n",
              "      <td>1.00</td>\n",
              "    </tr>\n",
              "  </tbody>\n",
              "</table>\n",
              "</div>\n",
              "      <button class=\"colab-df-convert\" onclick=\"convertToInteractive('df-0f7b58c6-9af9-4424-b92c-62ec6d54aaf8')\"\n",
              "              title=\"Convert this dataframe to an interactive table.\"\n",
              "              style=\"display:none;\">\n",
              "        \n",
              "  <svg xmlns=\"http://www.w3.org/2000/svg\" height=\"24px\"viewBox=\"0 0 24 24\"\n",
              "       width=\"24px\">\n",
              "    <path d=\"M0 0h24v24H0V0z\" fill=\"none\"/>\n",
              "    <path d=\"M18.56 5.44l.94 2.06.94-2.06 2.06-.94-2.06-.94-.94-2.06-.94 2.06-2.06.94zm-11 1L8.5 8.5l.94-2.06 2.06-.94-2.06-.94L8.5 2.5l-.94 2.06-2.06.94zm10 10l.94 2.06.94-2.06 2.06-.94-2.06-.94-.94-2.06-.94 2.06-2.06.94z\"/><path d=\"M17.41 7.96l-1.37-1.37c-.4-.4-.92-.59-1.43-.59-.52 0-1.04.2-1.43.59L10.3 9.45l-7.72 7.72c-.78.78-.78 2.05 0 2.83L4 21.41c.39.39.9.59 1.41.59.51 0 1.02-.2 1.41-.59l7.78-7.78 2.81-2.81c.8-.78.8-2.07 0-2.86zM5.41 20L4 18.59l7.72-7.72 1.47 1.35L5.41 20z\"/>\n",
              "  </svg>\n",
              "      </button>\n",
              "      \n",
              "  <style>\n",
              "    .colab-df-container {\n",
              "      display:flex;\n",
              "      flex-wrap:wrap;\n",
              "      gap: 12px;\n",
              "    }\n",
              "\n",
              "    .colab-df-convert {\n",
              "      background-color: #E8F0FE;\n",
              "      border: none;\n",
              "      border-radius: 50%;\n",
              "      cursor: pointer;\n",
              "      display: none;\n",
              "      fill: #1967D2;\n",
              "      height: 32px;\n",
              "      padding: 0 0 0 0;\n",
              "      width: 32px;\n",
              "    }\n",
              "\n",
              "    .colab-df-convert:hover {\n",
              "      background-color: #E2EBFA;\n",
              "      box-shadow: 0px 1px 2px rgba(60, 64, 67, 0.3), 0px 1px 3px 1px rgba(60, 64, 67, 0.15);\n",
              "      fill: #174EA6;\n",
              "    }\n",
              "\n",
              "    [theme=dark] .colab-df-convert {\n",
              "      background-color: #3B4455;\n",
              "      fill: #D2E3FC;\n",
              "    }\n",
              "\n",
              "    [theme=dark] .colab-df-convert:hover {\n",
              "      background-color: #434B5C;\n",
              "      box-shadow: 0px 1px 3px 1px rgba(0, 0, 0, 0.15);\n",
              "      filter: drop-shadow(0px 1px 2px rgba(0, 0, 0, 0.3));\n",
              "      fill: #FFFFFF;\n",
              "    }\n",
              "  </style>\n",
              "\n",
              "      <script>\n",
              "        const buttonEl =\n",
              "          document.querySelector('#df-0f7b58c6-9af9-4424-b92c-62ec6d54aaf8 button.colab-df-convert');\n",
              "        buttonEl.style.display =\n",
              "          google.colab.kernel.accessAllowed ? 'block' : 'none';\n",
              "\n",
              "        async function convertToInteractive(key) {\n",
              "          const element = document.querySelector('#df-0f7b58c6-9af9-4424-b92c-62ec6d54aaf8');\n",
              "          const dataTable =\n",
              "            await google.colab.kernel.invokeFunction('convertToInteractive',\n",
              "                                                     [key], {});\n",
              "          if (!dataTable) return;\n",
              "\n",
              "          const docLinkHtml = 'Like what you see? Visit the ' +\n",
              "            '<a target=\"_blank\" href=https://colab.research.google.com/notebooks/data_table.ipynb>data table notebook</a>'\n",
              "            + ' to learn more about interactive tables.';\n",
              "          element.innerHTML = '';\n",
              "          dataTable['output_type'] = 'display_data';\n",
              "          await google.colab.output.renderOutput(dataTable, element);\n",
              "          const docLink = document.createElement('div');\n",
              "          docLink.innerHTML = docLinkHtml;\n",
              "          element.appendChild(docLink);\n",
              "        }\n",
              "      </script>\n",
              "    </div>\n",
              "  </div>\n",
              "  "
            ],
            "text/plain": [
              "           0       1       2       3   ...      9       10      11      12\n",
              "count  506.00  506.00  506.00  506.00  ...  506.00  506.00  506.00  506.00\n",
              "mean     0.04    0.11    0.39    0.07  ...    0.42    0.62    0.90    0.30\n",
              "std      0.10    0.23    0.25    0.25  ...    0.32    0.23    0.23    0.20\n",
              "min      0.00    0.00    0.00    0.00  ...    0.00    0.00    0.00    0.00\n",
              "25%      0.00    0.00    0.17    0.00  ...    0.18    0.51    0.95    0.14\n",
              "50%      0.00    0.00    0.34    0.00  ...    0.27    0.69    0.99    0.27\n",
              "75%      0.04    0.12    0.65    0.00  ...    0.91    0.81    1.00    0.42\n",
              "max      1.00    1.00    1.00    1.00  ...    1.00    1.00    1.00    1.00\n",
              "\n",
              "[8 rows x 13 columns]"
            ]
          },
          "metadata": {},
          "execution_count": 107
        }
      ]
    },
    {
      "cell_type": "code",
      "source": [
        "# 최소 최대 정규화 적용\n",
        "from sklearn.preprocessing import MinMaxScaler\n",
        "scaler = MinMaxScaler()\n",
        "x_scaled = scaler.fit_transform(boston['data'])\n",
        "pd.DataFrame(x_scaled).describe().round(2)"
      ],
      "metadata": {
        "colab": {
          "base_uri": "https://localhost:8080/",
          "height": 300
        },
        "id": "bnkH0VtSTUr7",
        "outputId": "96f5e5d4-bee2-4483-e71f-6b1f9f6e592b"
      },
      "execution_count": 108,
      "outputs": [
        {
          "output_type": "execute_result",
          "data": {
            "text/html": [
              "\n",
              "  <div id=\"df-78ea7b52-ed65-43ab-a3cb-79ad0dd8ca29\">\n",
              "    <div class=\"colab-df-container\">\n",
              "      <div>\n",
              "<style scoped>\n",
              "    .dataframe tbody tr th:only-of-type {\n",
              "        vertical-align: middle;\n",
              "    }\n",
              "\n",
              "    .dataframe tbody tr th {\n",
              "        vertical-align: top;\n",
              "    }\n",
              "\n",
              "    .dataframe thead th {\n",
              "        text-align: right;\n",
              "    }\n",
              "</style>\n",
              "<table border=\"1\" class=\"dataframe\">\n",
              "  <thead>\n",
              "    <tr style=\"text-align: right;\">\n",
              "      <th></th>\n",
              "      <th>0</th>\n",
              "      <th>1</th>\n",
              "      <th>2</th>\n",
              "      <th>3</th>\n",
              "      <th>4</th>\n",
              "      <th>5</th>\n",
              "      <th>6</th>\n",
              "      <th>7</th>\n",
              "      <th>8</th>\n",
              "      <th>9</th>\n",
              "      <th>10</th>\n",
              "      <th>11</th>\n",
              "      <th>12</th>\n",
              "    </tr>\n",
              "  </thead>\n",
              "  <tbody>\n",
              "    <tr>\n",
              "      <th>count</th>\n",
              "      <td>506.00</td>\n",
              "      <td>506.00</td>\n",
              "      <td>506.00</td>\n",
              "      <td>506.00</td>\n",
              "      <td>506.00</td>\n",
              "      <td>506.00</td>\n",
              "      <td>506.00</td>\n",
              "      <td>506.00</td>\n",
              "      <td>506.00</td>\n",
              "      <td>506.00</td>\n",
              "      <td>506.00</td>\n",
              "      <td>506.00</td>\n",
              "      <td>506.00</td>\n",
              "    </tr>\n",
              "    <tr>\n",
              "      <th>mean</th>\n",
              "      <td>0.04</td>\n",
              "      <td>0.11</td>\n",
              "      <td>0.39</td>\n",
              "      <td>0.07</td>\n",
              "      <td>0.35</td>\n",
              "      <td>0.52</td>\n",
              "      <td>0.68</td>\n",
              "      <td>0.24</td>\n",
              "      <td>0.37</td>\n",
              "      <td>0.42</td>\n",
              "      <td>0.62</td>\n",
              "      <td>0.90</td>\n",
              "      <td>0.30</td>\n",
              "    </tr>\n",
              "    <tr>\n",
              "      <th>std</th>\n",
              "      <td>0.10</td>\n",
              "      <td>0.23</td>\n",
              "      <td>0.25</td>\n",
              "      <td>0.25</td>\n",
              "      <td>0.24</td>\n",
              "      <td>0.13</td>\n",
              "      <td>0.29</td>\n",
              "      <td>0.19</td>\n",
              "      <td>0.38</td>\n",
              "      <td>0.32</td>\n",
              "      <td>0.23</td>\n",
              "      <td>0.23</td>\n",
              "      <td>0.20</td>\n",
              "    </tr>\n",
              "    <tr>\n",
              "      <th>min</th>\n",
              "      <td>0.00</td>\n",
              "      <td>0.00</td>\n",
              "      <td>0.00</td>\n",
              "      <td>0.00</td>\n",
              "      <td>0.00</td>\n",
              "      <td>0.00</td>\n",
              "      <td>0.00</td>\n",
              "      <td>0.00</td>\n",
              "      <td>0.00</td>\n",
              "      <td>0.00</td>\n",
              "      <td>0.00</td>\n",
              "      <td>0.00</td>\n",
              "      <td>0.00</td>\n",
              "    </tr>\n",
              "    <tr>\n",
              "      <th>25%</th>\n",
              "      <td>0.00</td>\n",
              "      <td>0.00</td>\n",
              "      <td>0.17</td>\n",
              "      <td>0.00</td>\n",
              "      <td>0.13</td>\n",
              "      <td>0.45</td>\n",
              "      <td>0.43</td>\n",
              "      <td>0.09</td>\n",
              "      <td>0.13</td>\n",
              "      <td>0.18</td>\n",
              "      <td>0.51</td>\n",
              "      <td>0.95</td>\n",
              "      <td>0.14</td>\n",
              "    </tr>\n",
              "    <tr>\n",
              "      <th>50%</th>\n",
              "      <td>0.00</td>\n",
              "      <td>0.00</td>\n",
              "      <td>0.34</td>\n",
              "      <td>0.00</td>\n",
              "      <td>0.31</td>\n",
              "      <td>0.51</td>\n",
              "      <td>0.77</td>\n",
              "      <td>0.19</td>\n",
              "      <td>0.17</td>\n",
              "      <td>0.27</td>\n",
              "      <td>0.69</td>\n",
              "      <td>0.99</td>\n",
              "      <td>0.27</td>\n",
              "    </tr>\n",
              "    <tr>\n",
              "      <th>75%</th>\n",
              "      <td>0.04</td>\n",
              "      <td>0.12</td>\n",
              "      <td>0.65</td>\n",
              "      <td>0.00</td>\n",
              "      <td>0.49</td>\n",
              "      <td>0.59</td>\n",
              "      <td>0.94</td>\n",
              "      <td>0.37</td>\n",
              "      <td>1.00</td>\n",
              "      <td>0.91</td>\n",
              "      <td>0.81</td>\n",
              "      <td>1.00</td>\n",
              "      <td>0.42</td>\n",
              "    </tr>\n",
              "    <tr>\n",
              "      <th>max</th>\n",
              "      <td>1.00</td>\n",
              "      <td>1.00</td>\n",
              "      <td>1.00</td>\n",
              "      <td>1.00</td>\n",
              "      <td>1.00</td>\n",
              "      <td>1.00</td>\n",
              "      <td>1.00</td>\n",
              "      <td>1.00</td>\n",
              "      <td>1.00</td>\n",
              "      <td>1.00</td>\n",
              "      <td>1.00</td>\n",
              "      <td>1.00</td>\n",
              "      <td>1.00</td>\n",
              "    </tr>\n",
              "  </tbody>\n",
              "</table>\n",
              "</div>\n",
              "      <button class=\"colab-df-convert\" onclick=\"convertToInteractive('df-78ea7b52-ed65-43ab-a3cb-79ad0dd8ca29')\"\n",
              "              title=\"Convert this dataframe to an interactive table.\"\n",
              "              style=\"display:none;\">\n",
              "        \n",
              "  <svg xmlns=\"http://www.w3.org/2000/svg\" height=\"24px\"viewBox=\"0 0 24 24\"\n",
              "       width=\"24px\">\n",
              "    <path d=\"M0 0h24v24H0V0z\" fill=\"none\"/>\n",
              "    <path d=\"M18.56 5.44l.94 2.06.94-2.06 2.06-.94-2.06-.94-.94-2.06-.94 2.06-2.06.94zm-11 1L8.5 8.5l.94-2.06 2.06-.94-2.06-.94L8.5 2.5l-.94 2.06-2.06.94zm10 10l.94 2.06.94-2.06 2.06-.94-2.06-.94-.94-2.06-.94 2.06-2.06.94z\"/><path d=\"M17.41 7.96l-1.37-1.37c-.4-.4-.92-.59-1.43-.59-.52 0-1.04.2-1.43.59L10.3 9.45l-7.72 7.72c-.78.78-.78 2.05 0 2.83L4 21.41c.39.39.9.59 1.41.59.51 0 1.02-.2 1.41-.59l7.78-7.78 2.81-2.81c.8-.78.8-2.07 0-2.86zM5.41 20L4 18.59l7.72-7.72 1.47 1.35L5.41 20z\"/>\n",
              "  </svg>\n",
              "      </button>\n",
              "      \n",
              "  <style>\n",
              "    .colab-df-container {\n",
              "      display:flex;\n",
              "      flex-wrap:wrap;\n",
              "      gap: 12px;\n",
              "    }\n",
              "\n",
              "    .colab-df-convert {\n",
              "      background-color: #E8F0FE;\n",
              "      border: none;\n",
              "      border-radius: 50%;\n",
              "      cursor: pointer;\n",
              "      display: none;\n",
              "      fill: #1967D2;\n",
              "      height: 32px;\n",
              "      padding: 0 0 0 0;\n",
              "      width: 32px;\n",
              "    }\n",
              "\n",
              "    .colab-df-convert:hover {\n",
              "      background-color: #E2EBFA;\n",
              "      box-shadow: 0px 1px 2px rgba(60, 64, 67, 0.3), 0px 1px 3px 1px rgba(60, 64, 67, 0.15);\n",
              "      fill: #174EA6;\n",
              "    }\n",
              "\n",
              "    [theme=dark] .colab-df-convert {\n",
              "      background-color: #3B4455;\n",
              "      fill: #D2E3FC;\n",
              "    }\n",
              "\n",
              "    [theme=dark] .colab-df-convert:hover {\n",
              "      background-color: #434B5C;\n",
              "      box-shadow: 0px 1px 3px 1px rgba(0, 0, 0, 0.15);\n",
              "      filter: drop-shadow(0px 1px 2px rgba(0, 0, 0, 0.3));\n",
              "      fill: #FFFFFF;\n",
              "    }\n",
              "  </style>\n",
              "\n",
              "      <script>\n",
              "        const buttonEl =\n",
              "          document.querySelector('#df-78ea7b52-ed65-43ab-a3cb-79ad0dd8ca29 button.colab-df-convert');\n",
              "        buttonEl.style.display =\n",
              "          google.colab.kernel.accessAllowed ? 'block' : 'none';\n",
              "\n",
              "        async function convertToInteractive(key) {\n",
              "          const element = document.querySelector('#df-78ea7b52-ed65-43ab-a3cb-79ad0dd8ca29');\n",
              "          const dataTable =\n",
              "            await google.colab.kernel.invokeFunction('convertToInteractive',\n",
              "                                                     [key], {});\n",
              "          if (!dataTable) return;\n",
              "\n",
              "          const docLinkHtml = 'Like what you see? Visit the ' +\n",
              "            '<a target=\"_blank\" href=https://colab.research.google.com/notebooks/data_table.ipynb>data table notebook</a>'\n",
              "            + ' to learn more about interactive tables.';\n",
              "          element.innerHTML = '';\n",
              "          dataTable['output_type'] = 'display_data';\n",
              "          await google.colab.output.renderOutput(dataTable, element);\n",
              "          const docLink = document.createElement('div');\n",
              "          docLink.innerHTML = docLinkHtml;\n",
              "          element.appendChild(docLink);\n",
              "        }\n",
              "      </script>\n",
              "    </div>\n",
              "  </div>\n",
              "  "
            ],
            "text/plain": [
              "           0       1       2       3   ...      9       10      11      12\n",
              "count  506.00  506.00  506.00  506.00  ...  506.00  506.00  506.00  506.00\n",
              "mean     0.04    0.11    0.39    0.07  ...    0.42    0.62    0.90    0.30\n",
              "std      0.10    0.23    0.25    0.25  ...    0.32    0.23    0.23    0.20\n",
              "min      0.00    0.00    0.00    0.00  ...    0.00    0.00    0.00    0.00\n",
              "25%      0.00    0.00    0.17    0.00  ...    0.18    0.51    0.95    0.14\n",
              "50%      0.00    0.00    0.34    0.00  ...    0.27    0.69    0.99    0.27\n",
              "75%      0.04    0.12    0.65    0.00  ...    0.91    0.81    1.00    0.42\n",
              "max      1.00    1.00    1.00    1.00  ...    1.00    1.00    1.00    1.00\n",
              "\n",
              "[8 rows x 13 columns]"
            ]
          },
          "metadata": {},
          "execution_count": 108
        }
      ]
    },
    {
      "cell_type": "code",
      "source": [
        "from sklearn.model_selection import train_test_split\n",
        "\n",
        "x_train, x_test, y_train, y_test = train_test_split(x_scaled, boston['target'], random_state=0)\n",
        "\n",
        "from sklearn.linear_model import LinearRegression\n",
        "model = LinearRegression().fit(x_train, y_train)\n",
        "model.score(x_train, y_train), model.score(x_test, y_test)"
      ],
      "metadata": {
        "colab": {
          "base_uri": "https://localhost:8080/"
        },
        "id": "5Mcx-vCdTa81",
        "outputId": "3c7eaec8-1619-43c7-8f42-6e6c3731c074"
      },
      "execution_count": 109,
      "outputs": [
        {
          "output_type": "execute_result",
          "data": {
            "text/plain": [
              "(0.7697699488741149, 0.6354638433202123)"
            ]
          },
          "metadata": {},
          "execution_count": 109
        }
      ]
    },
    {
      "cell_type": "code",
      "source": [
        "from sklearn.preprocessing import PolynomialFeatures\n",
        "# P = PolynomialFeatures(degree =3, include_bias=False)\n",
        "P = PolynomialFeatures(degree =2)\n",
        "x_poly = P.fit_transform(boston['data']) # 다항"
      ],
      "metadata": {
        "id": "JaCSyqZoTHTf"
      },
      "execution_count": 110,
      "outputs": []
    },
    {
      "cell_type": "code",
      "source": [
        "# 과대적합... 나오네..\n",
        "from sklearn.model_selection import train_test_split\n",
        "\n",
        "x_train, x_test, y_train, y_test = train_test_split(x_poly, boston['target'], random_state=0, test_size=0.3)\n",
        "\n",
        "from sklearn.linear_model import LinearRegression\n",
        "model = LinearRegression().fit(x_train, y_train)\n",
        "model.score(x_train, y_train), model.score(x_test, y_test)"
      ],
      "metadata": {
        "colab": {
          "base_uri": "https://localhost:8080/"
        },
        "id": "t5UAtO9bXbsc",
        "outputId": "c24632a9-0687-4347-9ce7-7259f5d40de4"
      },
      "execution_count": 111,
      "outputs": [
        {
          "output_type": "execute_result",
          "data": {
            "text/plain": [
              "(0.9513476920724716, 0.6516663766166686)"
            ]
          },
          "metadata": {},
          "execution_count": 111
        }
      ]
    },
    {
      "cell_type": "code",
      "source": [
        "from sklearn.linear_model import Ridge\n",
        "\n",
        "model = Ridge(alpha = 1).fit(x_train, y_train)\n",
        "model.score(x_train, y_train) , model.score(x_test, y_test)"
      ],
      "metadata": {
        "colab": {
          "base_uri": "https://localhost:8080/"
        },
        "id": "G9ylu3i3cRJZ",
        "outputId": "c431e1da-66d3-4d30-ce77-943043999172"
      },
      "execution_count": 112,
      "outputs": [
        {
          "output_type": "execute_result",
          "data": {
            "text/plain": [
              "(0.9476365727465043, 0.640798015431215)"
            ]
          },
          "metadata": {},
          "execution_count": 112
        }
      ]
    },
    {
      "cell_type": "code",
      "source": [
        "from sklearn.linear_model import Ridge\n",
        "\n",
        "model = Ridge(alpha = 1000).fit(x_train, y_train)\n",
        "model.score(x_train, y_train) , model.score(x_test, y_test)"
      ],
      "metadata": {
        "colab": {
          "base_uri": "https://localhost:8080/"
        },
        "id": "HSRZIwnsXwRf",
        "outputId": "c1180eba-9694-47a9-b311-08741d11fbda"
      },
      "execution_count": 113,
      "outputs": [
        {
          "output_type": "execute_result",
          "data": {
            "text/plain": [
              "(0.9214376646286776, 0.7647839167515076)"
            ]
          },
          "metadata": {},
          "execution_count": 113
        }
      ]
    },
    {
      "cell_type": "code",
      "source": [
        "from sklearn.linear_model import Ridge\n",
        "\n",
        "model = Ridge(alpha = 83).fit(x_train, y_train)\n",
        "model.score(x_train, y_train) , model.score(x_test, y_test)"
      ],
      "metadata": {
        "colab": {
          "base_uri": "https://localhost:8080/"
        },
        "id": "VcrzzJaOf7Fr",
        "outputId": "2bf11184-e389-46ba-b6c3-084c72962049"
      },
      "execution_count": 114,
      "outputs": [
        {
          "output_type": "execute_result",
          "data": {
            "text/plain": [
              "(0.9316546674041414, 0.7799838254543217)"
            ]
          },
          "metadata": {},
          "execution_count": 114
        }
      ]
    },
    {
      "cell_type": "code",
      "source": [
        "from sklearn.linear_model import Ridge\n",
        "\n",
        "model = Ridge(alpha = 84).fit(x_train, y_train)\n",
        "model.score(x_train, y_train) , model.score(x_test, y_test)"
      ],
      "metadata": {
        "colab": {
          "base_uri": "https://localhost:8080/"
        },
        "id": "TGOTJnkJgCXE",
        "outputId": "fdd2b770-f5db-458d-9017-e828fe073fd2"
      },
      "execution_count": 115,
      "outputs": [
        {
          "output_type": "execute_result",
          "data": {
            "text/plain": [
              "(0.9316056937786613, 0.7799850407292819)"
            ]
          },
          "metadata": {},
          "execution_count": 115
        }
      ]
    },
    {
      "cell_type": "code",
      "source": [
        "from sklearn.linear_model import Ridge\n",
        "\n",
        "model = Ridge(alpha = 85).fit(x_train, y_train)\n",
        "model.score(x_train, y_train) , model.score(x_test, y_test)"
      ],
      "metadata": {
        "colab": {
          "base_uri": "https://localhost:8080/"
        },
        "id": "MxvXiCTIgPmp",
        "outputId": "068caf59-0efe-4cb5-fd00-46b0baa07da3"
      },
      "execution_count": 116,
      "outputs": [
        {
          "output_type": "execute_result",
          "data": {
            "text/plain": [
              "(0.9315573534327113, 0.7799849054015626)"
            ]
          },
          "metadata": {},
          "execution_count": 116
        }
      ]
    },
    {
      "cell_type": "code",
      "source": [
        "from sklearn.linear_model import Lasso\n",
        "\n",
        "model = Lasso(alpha = 0.1).fit(x_train, y_train)\n",
        "model.score(x_train, y_train) , model.score(x_test, y_test)"
      ],
      "metadata": {
        "colab": {
          "base_uri": "https://localhost:8080/"
        },
        "id": "PPsHdYoDiVI8",
        "outputId": "a9b59fe0-71b8-4bca-92f6-50b2ab6f9b22"
      },
      "execution_count": 117,
      "outputs": [
        {
          "output_type": "stream",
          "name": "stderr",
          "text": [
            "/usr/local/lib/python3.7/dist-packages/sklearn/linear_model/_coordinate_descent.py:648: ConvergenceWarning: Objective did not converge. You might want to increase the number of iterations, check the scale of the features or consider increasing regularisation. Duality gap: 1.301e+03, tolerance: 3.001e+00\n",
            "  coef_, l1_reg, l2_reg, X, y, max_iter, tol, rng, random, positive\n"
          ]
        },
        {
          "output_type": "execute_result",
          "data": {
            "text/plain": [
              "(0.9231490865776868, 0.7883015198400682)"
            ]
          },
          "metadata": {},
          "execution_count": 117
        }
      ]
    },
    {
      "cell_type": "code",
      "source": [
        "len(model.coef_), len(model.coef_[model.coef_ !=0])"
      ],
      "metadata": {
        "colab": {
          "base_uri": "https://localhost:8080/"
        },
        "id": "b0dFatUHgj5h",
        "outputId": "96fc26eb-108f-4e4f-cc4e-aaa4e3689fbd"
      },
      "execution_count": 118,
      "outputs": [
        {
          "output_type": "execute_result",
          "data": {
            "text/plain": [
              "(105, 76)"
            ]
          },
          "metadata": {},
          "execution_count": 118
        }
      ]
    },
    {
      "cell_type": "code",
      "source": [
        "x = np.array([1,2,3,4,5,6,7,8,9,11,13])\n",
        "y = np.array([0,0,0,0,0,0,0,1,1,1,1])\n",
        "plt.scatter(x,y)\n",
        "plt.show()"
      ],
      "metadata": {
        "colab": {
          "base_uri": "https://localhost:8080/",
          "height": 265
        },
        "id": "y1Imq2c6h63W",
        "outputId": "0a4586bb-cb59-4310-e89e-2b6bf52ee347"
      },
      "execution_count": 119,
      "outputs": [
        {
          "output_type": "display_data",
          "data": {
            "image/png": "[encoded data removed]",
            "text/plain": [
              "<Figure size 432x288 with 1 Axes>"
            ]
          },
          "metadata": {
            "needs_background": "light"
          }
        }
      ]
    },
    {
      "cell_type": "code",
      "source": [
        "from sklearn.linear_model import LinearRegression\n",
        "\n",
        "model = LinearRegression().fit(x.reshape(-1,1), y)\n",
        "plt.scatter(x,y)\n",
        "plt.plot(x, model.predict(x.reshape(-1,1)), c='red')\n",
        "plt.show()"
      ],
      "metadata": {
        "colab": {
          "base_uri": "https://localhost:8080/",
          "height": 265
        },
        "id": "R3sSFayNjcLP",
        "outputId": "7443b29c-0fba-4d31-c437-b49806dbbed9"
      },
      "execution_count": 120,
      "outputs": [
        {
          "output_type": "display_data",
          "data": {
            "image/png": "[encoded data removed]",
            "text/plain": [
              "<Figure size 432x288 with 1 Axes>"
            ]
          },
          "metadata": {
            "needs_background": "light"
          }
        }
      ]
    },
    {
      "cell_type": "code",
      "source": [
        "from sklearn.preprocessing import PolynomialFeatures\n",
        "# P = PolynomialFeatures(degree =3, include_bias=False)\n",
        "P = PolynomialFeatures(degree =2)\n",
        "x_poly = P.fit_transform(x.reshape(-1,1)) # 다항"
      ],
      "metadata": {
        "id": "gHxHuWv8knHv"
      },
      "execution_count": 121,
      "outputs": []
    },
    {
      "cell_type": "code",
      "source": [
        "from sklearn.linear_model import Ridge\n",
        "\n",
        "model = Ridge(alpha = 100).fit(x_poly, y)\n",
        "plt.scatter(x,y)\n",
        "plt.plot(x, model.predict(x_poly), c='red')\n",
        "plt.show()"
      ],
      "metadata": {
        "colab": {
          "base_uri": "https://localhost:8080/",
          "height": 265
        },
        "id": "buZc-HDwjhOX",
        "outputId": "74040a2e-94b4-40d6-912d-b5995d14bb11"
      },
      "execution_count": 122,
      "outputs": [
        {
          "output_type": "display_data",
          "data": {
            "image/png": "[encoded data removed]",
            "text/plain": [
              "<Figure size 432x288 with 1 Axes>"
            ]
          },
          "metadata": {
            "needs_background": "light"
          }
        }
      ]
    },
    {
      "cell_type": "code",
      "source": [
        "from sklearn.linear_model import LogisticRegression\n",
        "\n",
        "model = Ridge(alpha = 100).fit(x_poly, y)\n",
        "plt.scatter(x,y)\n",
        "plt.plot(x, model.predict(x_poly), c='red')\n",
        "plt.show()"
      ],
      "metadata": {
        "colab": {
          "base_uri": "https://localhost:8080/",
          "height": 265
        },
        "id": "-MD3EE_1kxTn",
        "outputId": "fe26724b-7121-4602-dc2a-9ed3c4f06d4f"
      },
      "execution_count": 123,
      "outputs": [
        {
          "output_type": "display_data",
          "data": {
            "image/png": "[encoded data removed]",
            "text/plain": [
              "<Figure size 432x288 with 1 Axes>"
            ]
          },
          "metadata": {
            "needs_background": "light"
          }
        }
      ]
    },
    {
      "cell_type": "code",
      "source": [
        "from sklearn.datasets import load_breast_cancer\n",
        "cancer = load_breast_cancer()"
      ],
      "metadata": {
        "id": "my_wKXgDmEPH"
      },
      "execution_count": 124,
      "outputs": []
    },
    {
      "cell_type": "code",
      "source": [
        "cancer['target'] #>> 0 또는 1 -> 범주형 > 분류모델|"
      ],
      "metadata": {
        "colab": {
          "base_uri": "https://localhost:8080/"
        },
        "id": "gsDyxokE7Dud",
        "outputId": "282c0dcc-3451-45a0-e0c3-df9908a83f18"
      },
      "execution_count": 126,
      "outputs": [
        {
          "output_type": "execute_result",
          "data": {
            "text/plain": [
              "array([0, 0, 0, 0, 0, 0, 0, 0, 0, 0, 0, 0, 0, 0, 0, 0, 0, 0, 0, 1, 1, 1,\n",
              "       0, 0, 0, 0, 0, 0, 0, 0, 0, 0, 0, 0, 0, 0, 0, 1, 0, 0, 0, 0, 0, 0,\n",
              "       0, 0, 1, 0, 1, 1, 1, 1, 1, 0, 0, 1, 0, 0, 1, 1, 1, 1, 0, 1, 0, 0,\n",
              "       1, 1, 1, 1, 0, 1, 0, 0, 1, 0, 1, 0, 0, 1, 1, 1, 0, 0, 1, 0, 0, 0,\n",
              "       1, 1, 1, 0, 1, 1, 0, 0, 1, 1, 1, 0, 0, 1, 1, 1, 1, 0, 1, 1, 0, 1,\n",
              "       1, 1, 1, 1, 1, 1, 1, 0, 0, 0, 1, 0, 0, 1, 1, 1, 0, 0, 1, 0, 1, 0,\n",
              "       0, 1, 0, 0, 1, 1, 0, 1, 1, 0, 1, 1, 1, 1, 0, 1, 1, 1, 1, 1, 1, 1,\n",
              "       1, 1, 0, 1, 1, 1, 1, 0, 0, 1, 0, 1, 1, 0, 0, 1, 1, 0, 0, 1, 1, 1,\n",
              "       1, 0, 1, 1, 0, 0, 0, 1, 0, 1, 0, 1, 1, 1, 0, 1, 1, 0, 0, 1, 0, 0,\n",
              "       0, 0, 1, 0, 0, 0, 1, 0, 1, 0, 1, 1, 0, 1, 0, 0, 0, 0, 1, 1, 0, 0,\n",
              "       1, 1, 1, 0, 1, 1, 1, 1, 1, 0, 0, 1, 1, 0, 1, 1, 0, 0, 1, 0, 1, 1,\n",
              "       1, 1, 0, 1, 1, 1, 1, 1, 0, 1, 0, 0, 0, 0, 0, 0, 0, 0, 0, 0, 0, 0,\n",
              "       0, 0, 1, 1, 1, 1, 1, 1, 0, 1, 0, 1, 1, 0, 1, 1, 0, 1, 0, 0, 1, 1,\n",
              "       1, 1, 1, 1, 1, 1, 1, 1, 1, 1, 1, 0, 1, 1, 0, 1, 0, 1, 1, 1, 1, 1,\n",
              "       1, 1, 1, 1, 1, 1, 1, 1, 1, 0, 1, 1, 1, 0, 1, 0, 1, 1, 1, 1, 0, 0,\n",
              "       0, 1, 1, 1, 1, 0, 1, 0, 1, 0, 1, 1, 1, 0, 1, 1, 1, 1, 1, 1, 1, 0,\n",
              "       0, 0, 1, 1, 1, 1, 1, 1, 1, 1, 1, 1, 1, 0, 0, 1, 0, 0, 0, 1, 0, 0,\n",
              "       1, 1, 1, 1, 1, 0, 1, 1, 1, 1, 1, 0, 1, 1, 1, 0, 1, 1, 0, 0, 1, 1,\n",
              "       1, 1, 1, 1, 0, 1, 1, 1, 1, 1, 1, 1, 0, 1, 1, 1, 1, 1, 0, 1, 1, 0,\n",
              "       1, 1, 1, 1, 1, 1, 1, 1, 1, 1, 1, 1, 0, 1, 0, 0, 1, 0, 1, 1, 1, 1,\n",
              "       1, 0, 1, 1, 0, 1, 0, 1, 1, 0, 1, 0, 1, 1, 1, 1, 1, 1, 1, 1, 0, 0,\n",
              "       1, 1, 1, 1, 1, 1, 0, 1, 1, 1, 1, 1, 1, 1, 1, 1, 1, 0, 1, 1, 1, 1,\n",
              "       1, 1, 1, 0, 1, 0, 1, 1, 0, 1, 1, 1, 1, 1, 0, 0, 1, 0, 1, 0, 1, 1,\n",
              "       1, 1, 1, 0, 1, 1, 0, 1, 0, 1, 0, 0, 1, 1, 1, 0, 1, 1, 1, 1, 1, 1,\n",
              "       1, 1, 1, 1, 1, 0, 1, 0, 0, 1, 1, 1, 1, 1, 1, 1, 1, 1, 1, 1, 1, 1,\n",
              "       1, 1, 1, 1, 1, 1, 1, 1, 1, 1, 1, 1, 0, 0, 0, 0, 0, 0, 1])"
            ]
          },
          "metadata": {},
          "execution_count": 126
        }
      ]
    },
    {
      "cell_type": "code",
      "source": [
        "cancer['target_names']\n",
        "#0 : malignant,  : 악성\n",
        "#1 : benign >> 양성"
      ],
      "metadata": {
        "colab": {
          "base_uri": "https://localhost:8080/"
        },
        "id": "CiWgAmuO7Kyk",
        "outputId": "7c6bdabe-3aae-4f97-bc80-414e824a6ec1"
      },
      "execution_count": 128,
      "outputs": [
        {
          "output_type": "execute_result",
          "data": {
            "text/plain": [
              "array(['malignant', 'benign'], dtype='<U9')"
            ]
          },
          "metadata": {},
          "execution_count": 128
        }
      ]
    },
    {
      "cell_type": "code",
      "source": [
        "from sklearn.model_selection import train_test_split\n",
        "\n",
        "x_train, x_test, y_train, y_test = \\\n",
        " train_test_split(cancer['data'], cancer['target'], random_state = 23)"
      ],
      "metadata": {
        "id": "nDuXLCUh7i1g"
      },
      "execution_count": 129,
      "outputs": []
    },
    {
      "cell_type": "code",
      "source": [
        "from sklearn.linear_model import LinearRegression\n",
        "model = LogisticRegression().fit(x_train, y_train)\n",
        "model.score(x_train, y_train) , model.score(x_test, y_test)\n",
        "#ConvergenceWarning : 수령경고 > 학습 횟수를 증가 "
      ],
      "metadata": {
        "colab": {
          "base_uri": "https://localhost:8080/"
        },
        "id": "bG43R7kD9MDE",
        "outputId": "7528989e-8624-481f-c8f0-ee5c1cc7387c"
      },
      "execution_count": 135,
      "outputs": [
        {
          "output_type": "stream",
          "name": "stderr",
          "text": [
            "/usr/local/lib/python3.7/dist-packages/sklearn/linear_model/_logistic.py:818: ConvergenceWarning: lbfgs failed to converge (status=1):\n",
            "STOP: TOTAL NO. of ITERATIONS REACHED LIMIT.\n",
            "\n",
            "Increase the number of iterations (max_iter) or scale the data as shown in:\n",
            "    https://scikit-learn.org/stable/modules/preprocessing.html\n",
            "Please also refer to the documentation for alternative solver options:\n",
            "    https://scikit-learn.org/stable/modules/linear_model.html#logistic-regression\n",
            "  extra_warning_msg=_LOGISTIC_SOLVER_CONVERGENCE_MSG,\n"
          ]
        },
        {
          "output_type": "execute_result",
          "data": {
            "text/plain": [
              "(0.9483568075117371, 0.9440559440559441)"
            ]
          },
          "metadata": {},
          "execution_count": 135
        }
      ]
    },
    {
      "cell_type": "code",
      "source": [
        "from sklearn.linear_model import LinearRegression\n",
        "model = LogisticRegression(max_iter = 100000).fit(x_train, y_train)\n",
        "model.score(x_train, y_train) , model.score(x_test, y_test)\n",
        "#ConvergenceWarning : 수령경고 > 학습 횟수를 증가 "
      ],
      "metadata": {
        "colab": {
          "base_uri": "https://localhost:8080/"
        },
        "id": "aHCCsHZy8Bkv",
        "outputId": "40e7bfcd-9ced-4e14-b94a-8bd5c974a77a"
      },
      "execution_count": 137,
      "outputs": [
        {
          "output_type": "execute_result",
          "data": {
            "text/plain": [
              "(0.960093896713615, 0.958041958041958)"
            ]
          },
          "metadata": {},
          "execution_count": 137
        }
      ]
    },
    {
      "cell_type": "code",
      "source": [
        "model.coef_"
      ],
      "metadata": {
        "colab": {
          "base_uri": "https://localhost:8080/"
        },
        "id": "29jiMr248U8q",
        "outputId": "0c096876-2907-4d87-c14c-360b625333e5"
      },
      "execution_count": 132,
      "outputs": [
        {
          "output_type": "execute_result",
          "data": {
            "text/plain": [
              "array([[ 1.2175517 ,  0.32029821,  0.15457772, -0.00838375, -0.05764799,\n",
              "        -0.2142295 , -0.30962775, -0.13900947, -0.05994074, -0.0134167 ,\n",
              "         0.04088246,  0.82192204,  0.23686677, -0.11862208, -0.00639009,\n",
              "        -0.03746051, -0.06039252, -0.01784513, -0.01203329, -0.00297427,\n",
              "         1.16491955, -0.43920969, -0.20590945, -0.0184766 , -0.10866992,\n",
              "        -0.65953844, -0.85090305, -0.26605688, -0.19025445, -0.06257049]])"
            ]
          },
          "metadata": {},
          "execution_count": 132
        }
      ]
    },
    {
      "cell_type": "code",
      "source": [
        "model.predict(x_test) # 예측 레이블 \n",
        "model.predict_proba(x_test) #예측 확률 \n",
        "model.decision_function(x_test) #회기식의 계산결과\n",
        "\n",
        "#회기식의 계산 결과 > sigmoid > 확률 > cutoff > 레이블"
      ],
      "metadata": {
        "colab": {
          "base_uri": "https://localhost:8080/"
        },
        "id": "yHWF5r-L8ehb",
        "outputId": "4694c46d-1bec-4c9c-8260-0c31c96ec3b7"
      },
      "execution_count": 143,
      "outputs": [
        {
          "output_type": "execute_result",
          "data": {
            "text/plain": [
              "array([  5.30879457,  -1.44752373, -14.82018569,   3.43291734,\n",
              "        -6.42965136, -11.89966628, -16.97657379,   3.20858209,\n",
              "         5.65332233, -10.38714312, -86.24102835,  13.58646635,\n",
              "         4.75563934,  11.09466982,   6.93605238,   7.21488178,\n",
              "         7.22436299,   1.70407565, -14.36397367,   5.21868171,\n",
              "         4.64785791,   4.01687632, -11.82410762,   7.00609601,\n",
              "         0.88465459,   4.1863186 ,   7.46665281,   6.9743681 ,\n",
              "         2.20293415,   0.82726536,   1.76124667,  -4.05712418,\n",
              "       -28.33049931,   7.51473883,   4.57231506,   5.96517163,\n",
              "        11.68344937,   6.15409428,   0.77096296,  11.29216862,\n",
              "         6.75221969,  11.86878623,  12.63701837,  -1.71537482,\n",
              "        -1.44855643,   8.7287281 ,   6.51447279,   7.69667034,\n",
              "         6.51051054,   5.12771921,  -4.67590767,   5.26088665,\n",
              "        -8.01097359,   6.77151634,  -8.00938571, -11.84329932,\n",
              "         7.27959117, -20.39986621,   4.25990276,   9.50030622,\n",
              "         8.31916566,  -6.53730452,  -9.87467145,   5.67957189,\n",
              "         3.26909288,   1.84292896,   4.65515719,   5.38096145,\n",
              "         4.92497209, -14.57007242,  -4.71915119, -35.9261338 ,\n",
              "         2.40906753,   9.32121203,   8.68148589,   9.49654084,\n",
              "        -6.82984993,   7.2181841 ,   8.25016861,   7.72259834,\n",
              "         6.2219284 , -14.70230209,   6.34403451,   3.18695523,\n",
              "         8.70396357,  -6.95899745,   7.48139553, -14.92403986,\n",
              "         0.47096383, -31.79486467, -16.59650736,  -3.34179608,\n",
              "         0.2999937 ,   2.72012641,   9.71216566, -35.64858604,\n",
              "        -6.00119251,   8.36031592,  10.29231543,  -3.502693  ,\n",
              "        -9.97801876,   3.29048693,   1.61898564,   4.51495279,\n",
              "         5.55078516,  -7.72763951,   9.72006392,  12.28652774,\n",
              "         3.42214527, -18.6621229 ,   8.31748775,   2.31378208,\n",
              "         6.36287169,  -8.24257236,   3.64913026, -34.67453875,\n",
              "         6.77696017,  -1.13842228,   8.00130929,   6.45692255,\n",
              "         8.73599387,   0.54837169,  -1.75566139,   7.4342902 ,\n",
              "         5.28375318,   0.99044073,   6.1723622 ,   8.17862525,\n",
              "        -3.45162398,  11.11009032, -17.17037174,   5.87981344,\n",
              "         4.85681868,   9.14110607,   6.84209059,   1.71134465,\n",
              "         4.11651295,  -6.49227474, -25.29340376,   3.01450031,\n",
              "       -14.62212981,   6.28225091, -38.54329096])"
            ]
          },
          "metadata": {},
          "execution_count": 143
        }
      ]
    },
    {
      "cell_type": "code",
      "source": [
        "import numpy as np\n",
        "\n",
        "def sigmoid(x):\n",
        "  return 1/ (1+np.exp(-x))\n",
        "\n",
        "x_range = np.arange(-10, 10.1, 0.1)\n",
        "y_range = [sigmoid(x) for x in x_range]\n",
        "\n",
        "plt.plot(x_range, y_range)"
      ],
      "metadata": {
        "colab": {
          "base_uri": "https://localhost:8080/",
          "height": 282
        },
        "id": "Bynm3Xob9XLO",
        "outputId": "8275195f-85c8-4ee6-ede2-d2e6e9e97f64"
      },
      "execution_count": 146,
      "outputs": [
        {
          "output_type": "execute_result",
          "data": {
            "text/plain": [
              "[<matplotlib.lines.Line2D at 0x7f2fe9545710>]"
            ]
          },
          "metadata": {},
          "execution_count": 146
        },
        {
          "output_type": "display_data",
          "data": {
            "image/png": "[encoded data removed]",
            "text/plain": [
              "<Figure size 432x288 with 1 Axes>"
            ]
          },
          "metadata": {
            "needs_background": "light"
          }
        }
      ]
    },
    {
      "cell_type": "code",
      "source": [
        "model.decision_function(x_test)[0]\n",
        "# sigmoid(x_test[0])\n",
        "sigmoid(-5.308794565879971)\n",
        "model.predict_proba(x_test)[0]\n",
        "model.predict(x_test)[0]"
      ],
      "metadata": {
        "colab": {
          "base_uri": "https://localhost:8080/"
        },
        "id": "I96eBgAV-LSm",
        "outputId": "07140071-42db-4c14-eaba-53dba354ea96"
      },
      "execution_count": 152,
      "outputs": [
        {
          "output_type": "execute_result",
          "data": {
            "text/plain": [
              "1"
            ]
          },
          "metadata": {},
          "execution_count": 152
        }
      ]
    },
    {
      "cell_type": "code",
      "source": [
        "from sklearn.datasets import load_digits\n",
        "digits = load_digits()"
      ],
      "metadata": {
        "id": "wrG3nK1l-WeI"
      },
      "execution_count": 153,
      "outputs": []
    },
    {
      "cell_type": "code",
      "source": [
        "digits.keys()"
      ],
      "metadata": {
        "colab": {
          "base_uri": "https://localhost:8080/"
        },
        "id": "G5D-bbj3-9kO",
        "outputId": "39299cae-e863-4040-b8fc-e26205e22797"
      },
      "execution_count": 154,
      "outputs": [
        {
          "output_type": "execute_result",
          "data": {
            "text/plain": [
              "dict_keys(['data', 'target', 'frame', 'feature_names', 'target_names', 'images', 'DESCR'])"
            ]
          },
          "metadata": {},
          "execution_count": 154
        }
      ]
    },
    {
      "cell_type": "code",
      "source": [
        "digits['images']"
      ],
      "metadata": {
        "colab": {
          "base_uri": "https://localhost:8080/"
        },
        "id": "-IHtCbm9-_Qf",
        "outputId": "6492e6c4-8124-4a82-d740-bd89579e0bb9"
      },
      "execution_count": 156,
      "outputs": [
        {
          "output_type": "execute_result",
          "data": {
            "text/plain": [
              "array([[[ 0.,  0.,  5., ...,  1.,  0.,  0.],\n",
              "        [ 0.,  0., 13., ..., 15.,  5.,  0.],\n",
              "        [ 0.,  3., 15., ..., 11.,  8.,  0.],\n",
              "        ...,\n",
              "        [ 0.,  4., 11., ..., 12.,  7.,  0.],\n",
              "        [ 0.,  2., 14., ..., 12.,  0.,  0.],\n",
              "        [ 0.,  0.,  6., ...,  0.,  0.,  0.]],\n",
              "\n",
              "       [[ 0.,  0.,  0., ...,  5.,  0.,  0.],\n",
              "        [ 0.,  0.,  0., ...,  9.,  0.,  0.],\n",
              "        [ 0.,  0.,  3., ...,  6.,  0.,  0.],\n",
              "        ...,\n",
              "        [ 0.,  0.,  1., ...,  6.,  0.,  0.],\n",
              "        [ 0.,  0.,  1., ...,  6.,  0.,  0.],\n",
              "        [ 0.,  0.,  0., ..., 10.,  0.,  0.]],\n",
              "\n",
              "       [[ 0.,  0.,  0., ..., 12.,  0.,  0.],\n",
              "        [ 0.,  0.,  3., ..., 14.,  0.,  0.],\n",
              "        [ 0.,  0.,  8., ..., 16.,  0.,  0.],\n",
              "        ...,\n",
              "        [ 0.,  9., 16., ...,  0.,  0.,  0.],\n",
              "        [ 0.,  3., 13., ..., 11.,  5.,  0.],\n",
              "        [ 0.,  0.,  0., ..., 16.,  9.,  0.]],\n",
              "\n",
              "       ...,\n",
              "\n",
              "       [[ 0.,  0.,  1., ...,  1.,  0.,  0.],\n",
              "        [ 0.,  0., 13., ...,  2.,  1.,  0.],\n",
              "        [ 0.,  0., 16., ..., 16.,  5.,  0.],\n",
              "        ...,\n",
              "        [ 0.,  0., 16., ..., 15.,  0.,  0.],\n",
              "        [ 0.,  0., 15., ..., 16.,  0.,  0.],\n",
              "        [ 0.,  0.,  2., ...,  6.,  0.,  0.]],\n",
              "\n",
              "       [[ 0.,  0.,  2., ...,  0.,  0.,  0.],\n",
              "        [ 0.,  0., 14., ..., 15.,  1.,  0.],\n",
              "        [ 0.,  4., 16., ..., 16.,  7.,  0.],\n",
              "        ...,\n",
              "        [ 0.,  0.,  0., ..., 16.,  2.,  0.],\n",
              "        [ 0.,  0.,  4., ..., 16.,  2.,  0.],\n",
              "        [ 0.,  0.,  5., ..., 12.,  0.,  0.]],\n",
              "\n",
              "       [[ 0.,  0., 10., ...,  1.,  0.,  0.],\n",
              "        [ 0.,  2., 16., ...,  1.,  0.,  0.],\n",
              "        [ 0.,  0., 15., ..., 15.,  0.,  0.],\n",
              "        ...,\n",
              "        [ 0.,  4., 16., ..., 16.,  6.,  0.],\n",
              "        [ 0.,  8., 16., ..., 16.,  8.,  0.],\n",
              "        [ 0.,  1.,  8., ..., 12.,  1.,  0.]]])"
            ]
          },
          "metadata": {},
          "execution_count": 156
        }
      ]
    },
    {
      "cell_type": "code",
      "source": [
        "plt.imshow(digits['images'][0])"
      ],
      "metadata": {
        "colab": {
          "base_uri": "https://localhost:8080/",
          "height": 282
        },
        "id": "CFhOY1NV_Cw0",
        "outputId": "5f672f6d-689c-448d-bd8f-46b90464324a"
      },
      "execution_count": 157,
      "outputs": [
        {
          "output_type": "execute_result",
          "data": {
            "text/plain": [
              "<matplotlib.image.AxesImage at 0x7f2fe9a0aad0>"
            ]
          },
          "metadata": {},
          "execution_count": 157
        },
        {
          "output_type": "display_data",
          "data": {
            "image/png": "[encoded data removed]",
            "text/plain": [
              "<Figure size 432x288 with 1 Axes>"
            ]
          },
          "metadata": {
            "needs_background": "light"
          }
        }
      ]
    },
    {
      "cell_type": "code",
      "source": [
        "plt.imshow(digits['images'][1])"
      ],
      "metadata": {
        "colab": {
          "base_uri": "https://localhost:8080/",
          "height": 282
        },
        "id": "JLWg7d3V_Hwm",
        "outputId": "5dbf3026-f2af-4da7-90ac-980175d1242a"
      },
      "execution_count": 158,
      "outputs": [
        {
          "output_type": "execute_result",
          "data": {
            "text/plain": [
              "<matplotlib.image.AxesImage at 0x7f2fea03d750>"
            ]
          },
          "metadata": {},
          "execution_count": 158
        },
        {
          "output_type": "display_data",
          "data": {
            "image/png": "[encoded data removed]",
            "text/plain": [
              "<Figure size 432x288 with 1 Axes>"
            ]
          },
          "metadata": {
            "needs_background": "light"
          }
        }
      ]
    },
    {
      "cell_type": "code",
      "source": [
        "x_train, x_test, y_train, y_test = train_test_split(digits['data'], digits['target'], random_state=23)\n",
        "model = LogisticRegression(max_iter = 100000).fit(x_train, y_train)\n",
        "model.coef_.shape # (10, 64) > (모델의 개수, 특성의 개수)"
      ],
      "metadata": {
        "colab": {
          "base_uri": "https://localhost:8080/"
        },
        "id": "lG3pPgQU_JMh",
        "outputId": "171643d6-12f8-40d2-d222-470559db0c7c"
      },
      "execution_count": 163,
      "outputs": [
        {
          "output_type": "execute_result",
          "data": {
            "text/plain": [
              "(10, 64)"
            ]
          },
          "metadata": {},
          "execution_count": 163
        }
      ]
    },
    {
      "cell_type": "code",
      "source": [
        "y_train.shape"
      ],
      "metadata": {
        "colab": {
          "base_uri": "https://localhost:8080/"
        },
        "id": "35VehGxE_Yg-",
        "outputId": "8d6deaa8-f14f-4ed1-fb72-5e8bed9bd794"
      },
      "execution_count": 164,
      "outputs": [
        {
          "output_type": "execute_result",
          "data": {
            "text/plain": [
              "(1347,)"
            ]
          },
          "metadata": {},
          "execution_count": 164
        }
      ]
    },
    {
      "cell_type": "code",
      "source": [
        "from sklearn.datasets import load_breast_cancer\n",
        "cancer = load_breast_cancer()\n",
        "x_train, x_test, y_train, y_test =\\\n",
        "    train_test_split(cancer['data'], cancer['target'], random_state=23)"
      ],
      "metadata": {
        "id": "nkDY04ehLrct"
      },
      "execution_count": 177,
      "outputs": []
    },
    {
      "cell_type": "code",
      "source": [
        "from sklearn.tree import DecisionTreeClassifier\n",
        "model = DecisionTreeClassifier(random_state=0).fit(x_train, y_train)\n",
        "model.score(x_train, y_train) , model.score(x_test, y_test)"
      ],
      "metadata": {
        "colab": {
          "base_uri": "https://localhost:8080/"
        },
        "id": "fJOPL1LfMFIh",
        "outputId": "5d2fd81e-1843-4bf6-d5c9-3054247d047e"
      },
      "execution_count": 178,
      "outputs": [
        {
          "output_type": "execute_result",
          "data": {
            "text/plain": [
              "(1.0, 0.958041958041958)"
            ]
          },
          "metadata": {},
          "execution_count": 178
        }
      ]
    },
    {
      "cell_type": "code",
      "source": [
        "from sklearn.datasets import load_breast_cancer\n",
        "cancer = load_breast_cancer()\n",
        "x_train, x_test, y_train, y_test =\\\n",
        "    train_test_split(cancer['data'], cancer['target'], random_state=0)"
      ],
      "metadata": {
        "id": "YiJsoUMkMDHD"
      },
      "execution_count": 179,
      "outputs": []
    },
    {
      "cell_type": "code",
      "source": [
        "from sklearn.tree import DecisionTreeClassifier\n",
        "model = DecisionTreeClassifier(random_state=0).fit(x_train, y_train)\n",
        "model.score(x_train, y_train) , model.score(x_test, y_test)"
      ],
      "metadata": {
        "colab": {
          "base_uri": "https://localhost:8080/"
        },
        "id": "YAPY_GQU_40a",
        "outputId": "efd3ddad-aa37-4da8-9db2-81dea7a12fe5"
      },
      "execution_count": 180,
      "outputs": [
        {
          "output_type": "execute_result",
          "data": {
            "text/plain": [
              "(1.0, 0.8811188811188811)"
            ]
          },
          "metadata": {},
          "execution_count": 180
        }
      ]
    },
    {
      "cell_type": "code",
      "source": [
        "model.feature_importances_"
      ],
      "metadata": {
        "colab": {
          "base_uri": "https://localhost:8080/"
        },
        "id": "aQkNNjaiLjds",
        "outputId": "d051416f-7e82-4cbb-abb9-580586e129c8"
      },
      "execution_count": 182,
      "outputs": [
        {
          "output_type": "execute_result",
          "data": {
            "text/plain": [
              "array([0.        , 0.0096886 , 0.        , 0.        , 0.        ,\n",
              "       0.        , 0.        , 0.71160121, 0.        , 0.        ,\n",
              "       0.01948008, 0.        , 0.        , 0.01676117, 0.017502  ,\n",
              "       0.        , 0.        , 0.        , 0.        , 0.        ,\n",
              "       0.        , 0.06706044, 0.        , 0.11373562, 0.        ,\n",
              "       0.03421113, 0.00995974, 0.        , 0.        , 0.        ])"
            ]
          },
          "metadata": {},
          "execution_count": 182
        }
      ]
    },
    {
      "cell_type": "code",
      "source": [
        "import pandas as pd\n",
        "fi = pd.Series(model.feature_importances_ , index = cancer['feature_names'])\n",
        "fi[fi!=0].sort_values().plot(kind='barh')"
      ],
      "metadata": {
        "colab": {
          "base_uri": "https://localhost:8080/",
          "height": 282
        },
        "id": "f_54euX-MSLX",
        "outputId": "28292daa-8545-4f27-e97d-0c50b18c9667"
      },
      "execution_count": 185,
      "outputs": [
        {
          "output_type": "execute_result",
          "data": {
            "text/plain": [
              "<matplotlib.axes._subplots.AxesSubplot at 0x7f2fe961a810>"
            ]
          },
          "metadata": {},
          "execution_count": 185
        },
        {
          "output_type": "display_data",
          "data": {
            "image/png": "[encoded data removed]",
            "text/plain": [
              "<Figure size 432x288 with 1 Axes>"
            ]
          },
          "metadata": {
            "needs_background": "light"
          }
        }
      ]
    },
    {
      "cell_type": "code",
      "source": [
        "# using graphviz \n",
        "!apt-get -qq install -y graphviz && pip install -q pydot\n",
        "import pydot\n",
        "## 아래 있는것은 필수는 아닌데, 가끔 에러가 생길 때가 있어서, 그냥 같이 해줌. \n",
        "!apt-get install graphviz libgraphviz-dev pkg-config\n",
        "!pip install pygraphviz\n",
        "import pygraphviz"
      ],
      "metadata": {
        "colab": {
          "base_uri": "https://localhost:8080/"
        },
        "id": "RTJdRX7tMiet",
        "outputId": "cc4c715b-53af-4587-966e-167a7bb89a7d"
      },
      "execution_count": 186,
      "outputs": [
        {
          "output_type": "stream",
          "name": "stdout",
          "text": [
            "Reading package lists... Done\n",
            "Building dependency tree       \n",
            "Reading state information... Done\n",
            "pkg-config is already the newest version (0.29.1-0ubuntu2).\n",
            "graphviz is already the newest version (2.40.1-2).\n",
            "The following additional packages will be installed:\n",
            "  libgail-common libgail18 libgtk2.0-0 libgtk2.0-bin libgtk2.0-common\n",
            "  libgvc6-plugins-gtk libxdot4\n",
            "Suggested packages:\n",
            "  gvfs\n",
            "The following NEW packages will be installed:\n",
            "  libgail-common libgail18 libgraphviz-dev libgtk2.0-0 libgtk2.0-bin\n",
            "  libgtk2.0-common libgvc6-plugins-gtk libxdot4\n",
            "0 upgraded, 8 newly installed, 0 to remove and 37 not upgraded.\n",
            "Need to get 2,120 kB of archives.\n",
            "After this operation, 7,128 kB of additional disk space will be used.\n",
            "Get:1 http://archive.ubuntu.com/ubuntu bionic/main amd64 libgtk2.0-common all 2.24.32-1ubuntu1 [125 kB]\n",
            "Get:2 http://archive.ubuntu.com/ubuntu bionic/main amd64 libgtk2.0-0 amd64 2.24.32-1ubuntu1 [1,769 kB]\n",
            "Get:3 http://archive.ubuntu.com/ubuntu bionic/main amd64 libgail18 amd64 2.24.32-1ubuntu1 [14.2 kB]\n",
            "Get:4 http://archive.ubuntu.com/ubuntu bionic/main amd64 libgail-common amd64 2.24.32-1ubuntu1 [112 kB]\n",
            "Get:5 http://archive.ubuntu.com/ubuntu bionic/universe amd64 libxdot4 amd64 2.40.1-2 [15.7 kB]\n",
            "Get:6 http://archive.ubuntu.com/ubuntu bionic/universe amd64 libgvc6-plugins-gtk amd64 2.40.1-2 [18.2 kB]\n",
            "Get:7 http://archive.ubuntu.com/ubuntu bionic/universe amd64 libgraphviz-dev amd64 2.40.1-2 [57.3 kB]\n",
            "Get:8 http://archive.ubuntu.com/ubuntu bionic/main amd64 libgtk2.0-bin amd64 2.24.32-1ubuntu1 [7,536 B]\n",
            "Fetched 2,120 kB in 2s (1,358 kB/s)\n",
            "Selecting previously unselected package libgtk2.0-common.\n",
            "(Reading database ... 155222 files and directories currently installed.)\n",
            "Preparing to unpack .../0-libgtk2.0-common_2.24.32-1ubuntu1_all.deb ...\n",
            "Unpacking libgtk2.0-common (2.24.32-1ubuntu1) ...\n",
            "Selecting previously unselected package libgtk2.0-0:amd64.\n",
            "Preparing to unpack .../1-libgtk2.0-0_2.24.32-1ubuntu1_amd64.deb ...\n",
            "Unpacking libgtk2.0-0:amd64 (2.24.32-1ubuntu1) ...\n",
            "Selecting previously unselected package libgail18:amd64.\n",
            "Preparing to unpack .../2-libgail18_2.24.32-1ubuntu1_amd64.deb ...\n",
            "Unpacking libgail18:amd64 (2.24.32-1ubuntu1) ...\n",
            "Selecting previously unselected package libgail-common:amd64.\n",
            "Preparing to unpack .../3-libgail-common_2.24.32-1ubuntu1_amd64.deb ...\n",
            "Unpacking libgail-common:amd64 (2.24.32-1ubuntu1) ...\n",
            "Selecting previously unselected package libxdot4.\n",
            "Preparing to unpack .../4-libxdot4_2.40.1-2_amd64.deb ...\n",
            "Unpacking libxdot4 (2.40.1-2) ...\n",
            "Selecting previously unselected package libgvc6-plugins-gtk.\n",
            "Preparing to unpack .../5-libgvc6-plugins-gtk_2.40.1-2_amd64.deb ...\n",
            "Unpacking libgvc6-plugins-gtk (2.40.1-2) ...\n",
            "Selecting previously unselected package libgraphviz-dev.\n",
            "Preparing to unpack .../6-libgraphviz-dev_2.40.1-2_amd64.deb ...\n",
            "Unpacking libgraphviz-dev (2.40.1-2) ...\n",
            "Selecting previously unselected package libgtk2.0-bin.\n",
            "Preparing to unpack .../7-libgtk2.0-bin_2.24.32-1ubuntu1_amd64.deb ...\n",
            "Unpacking libgtk2.0-bin (2.24.32-1ubuntu1) ...\n",
            "Setting up libgtk2.0-common (2.24.32-1ubuntu1) ...\n",
            "Setting up libxdot4 (2.40.1-2) ...\n",
            "Setting up libgtk2.0-0:amd64 (2.24.32-1ubuntu1) ...\n",
            "Setting up libgail18:amd64 (2.24.32-1ubuntu1) ...\n",
            "Setting up libgail-common:amd64 (2.24.32-1ubuntu1) ...\n",
            "Setting up libgvc6-plugins-gtk (2.40.1-2) ...\n",
            "Setting up libgraphviz-dev (2.40.1-2) ...\n",
            "Setting up libgtk2.0-bin (2.24.32-1ubuntu1) ...\n",
            "Processing triggers for man-db (2.8.3-2ubuntu0.1) ...\n",
            "Processing triggers for libc-bin (2.27-3ubuntu1.3) ...\n",
            "/sbin/ldconfig.real: /usr/local/lib/python3.7/dist-packages/ideep4py/lib/libmkldnn.so.0 is not a symbolic link\n",
            "\n",
            "Collecting pygraphviz\n",
            "  Downloading pygraphviz-1.7.zip (118 kB)\n",
            "\u001b[K     |████████████████████████████████| 118 kB 8.3 MB/s \n",
            "\u001b[?25hBuilding wheels for collected packages: pygraphviz\n",
            "  Building wheel for pygraphviz (setup.py) ... \u001b[?25l\u001b[?25hdone\n",
            "  Created wheel for pygraphviz: filename=pygraphviz-1.7-cp37-cp37m-linux_x86_64.whl size=165754 sha256=e8acad47c3b351c7fdba2fdc00867c7918ede6f38f8ae116a70cf17857f5caa4\n",
            "  Stored in directory: /root/.cache/pip/wheels/8c/bc/0c/ac35392b72556e75107ff610cb31b313e8471918a6d280e34c\n",
            "Successfully built pygraphviz\n",
            "Installing collected packages: pygraphviz\n",
            "Successfully installed pygraphviz-1.7\n"
          ]
        }
      ]
    },
    {
      "cell_type": "code",
      "source": [
        "from sklearn.tree import export_graphviz\n",
        "export_graphviz(model, #시각화할 모델\n",
        "                out_file = 'model.dot' , #저장할 파일 명\n",
        "                feature_names=cancer['feature_names'], #컬럼명\n",
        "                class_names = cancer['target_names'], #레이블명\n",
        "                impurity=True, #불순도 출력유무\n",
        "                 filled=True) # 노드에 과반 범주 색상 부여 유무"
      ],
      "metadata": {
        "id": "d7JboUVnM-o2"
      },
      "execution_count": 187,
      "outputs": []
    },
    {
      "cell_type": "code",
      "source": [
        "import graphviz\n",
        "with open('model.dot') as f:\n",
        "  data = f.read()\n",
        "graphviz.Source(data).render('model') #pdf저장\n",
        "graphviz.Source(data) #출력창에 출력"
      ],
      "metadata": {
        "colab": {
          "base_uri": "https://localhost:8080/",
          "height": 1000
        },
        "id": "IXufNz41N87_",
        "outputId": "9c15a09f-7db6-42d7-cf0f-dfc04f735c60"
      },
      "execution_count": 189,
      "outputs": [
        {
          "output_type": "execute_result",
          "data": {
            "text/plain": [
              "<graphviz.files.Source at 0x7f2fe9641a50>"
            ],
            "image/svg+xml": "<?xml version=\"1.0\" encoding=\"UTF-8\" standalone=\"no\"?>\n<!DOCTYPE svg PUBLIC \"-//W3C//DTD SVG 1.1//EN\"\n \"http://www.w3.org/Graphics/SVG/1.1/DTD/svg11.dtd\">\n<!-- Generated by graphviz version 2.40.1 (20161225.0304)\n -->\n<!-- Title: Tree Pages: 1 -->\n<svg width=\"1627pt\" height=\"1028pt\"\n viewBox=\"0.00 0.00 1626.50 1028.00\" xmlns=\"http://www.w3.org/2000/svg\" xmlns:xlink=\"http://www.w3.org/1999/xlink\">\n<g id=\"graph0\" class=\"graph\" transform=\"scale(1 1) rotate(0) translate(4 1024)\">\n<title>Tree</title>\n<polygon fill=\"#ffffff\" stroke=\"transparent\" points=\"-4,4 -4,-1024 1622.5,-1024 1622.5,4 -4,4\"/>\n<!-- 0 -->\n<g id=\"node1\" class=\"node\">\n<title>0</title>\n<polygon fill=\"#afd7f4\" stroke=\"#000000\" points=\"990,-1020 774,-1020 774,-937 990,-937 990,-1020\"/>\n<text text-anchor=\"middle\" x=\"882\" y=\"-1004.8\" font-family=\"Helvetica,sans-Serif\" font-size=\"14.00\" fill=\"#000000\">mean concave points &lt;= 0.049</text>\n<text text-anchor=\"middle\" x=\"882\" y=\"-989.8\" font-family=\"Helvetica,sans-Serif\" font-size=\"14.00\" fill=\"#000000\">gini = 0.468</text>\n<text text-anchor=\"middle\" x=\"882\" y=\"-974.8\" font-family=\"Helvetica,sans-Serif\" font-size=\"14.00\" fill=\"#000000\">samples = 426</text>\n<text text-anchor=\"middle\" x=\"882\" y=\"-959.8\" font-family=\"Helvetica,sans-Serif\" font-size=\"14.00\" fill=\"#000000\">value = [159, 267]</text>\n<text text-anchor=\"middle\" x=\"882\" y=\"-944.8\" font-family=\"Helvetica,sans-Serif\" font-size=\"14.00\" fill=\"#000000\">class = benign</text>\n</g>\n<!-- 1 -->\n<g id=\"node2\" class=\"node\">\n<title>1</title>\n<polygon fill=\"#43a2e6\" stroke=\"#000000\" points=\"816.5,-901 671.5,-901 671.5,-818 816.5,-818 816.5,-901\"/>\n<text text-anchor=\"middle\" x=\"744\" y=\"-885.8\" font-family=\"Helvetica,sans-Serif\" font-size=\"14.00\" fill=\"#000000\">worst area &lt;= 952.9</text>\n<text text-anchor=\"middle\" x=\"744\" y=\"-870.8\" font-family=\"Helvetica,sans-Serif\" font-size=\"14.00\" fill=\"#000000\">gini = 0.095</text>\n<text text-anchor=\"middle\" x=\"744\" y=\"-855.8\" font-family=\"Helvetica,sans-Serif\" font-size=\"14.00\" fill=\"#000000\">samples = 260</text>\n<text text-anchor=\"middle\" x=\"744\" y=\"-840.8\" font-family=\"Helvetica,sans-Serif\" font-size=\"14.00\" fill=\"#000000\">value = [13, 247]</text>\n<text text-anchor=\"middle\" x=\"744\" y=\"-825.8\" font-family=\"Helvetica,sans-Serif\" font-size=\"14.00\" fill=\"#000000\">class = benign</text>\n</g>\n<!-- 0&#45;&gt;1 -->\n<g id=\"edge1\" class=\"edge\">\n<title>0&#45;&gt;1</title>\n<path fill=\"none\" stroke=\"#000000\" d=\"M833.7343,-936.8796C822.8722,-927.513 811.2544,-917.4948 800.1027,-907.8784\"/>\n<polygon fill=\"#000000\" stroke=\"#000000\" points=\"802.3306,-905.178 792.4717,-901.2981 797.7592,-910.4792 802.3306,-905.178\"/>\n<text text-anchor=\"middle\" x=\"794.3149\" y=\"-922.53\" font-family=\"Helvetica,sans-Serif\" font-size=\"14.00\" fill=\"#000000\">True</text>\n</g>\n<!-- 20 -->\n<g id=\"node21\" class=\"node\">\n<title>20</title>\n<polygon fill=\"#e99254\" stroke=\"#000000\" points=\"1132.5,-901 987.5,-901 987.5,-818 1132.5,-818 1132.5,-901\"/>\n<text text-anchor=\"middle\" x=\"1060\" y=\"-885.8\" font-family=\"Helvetica,sans-Serif\" font-size=\"14.00\" fill=\"#000000\">worst area &lt;= 785.8</text>\n<text text-anchor=\"middle\" x=\"1060\" y=\"-870.8\" font-family=\"Helvetica,sans-Serif\" font-size=\"14.00\" fill=\"#000000\">gini = 0.212</text>\n<text text-anchor=\"middle\" x=\"1060\" y=\"-855.8\" font-family=\"Helvetica,sans-Serif\" font-size=\"14.00\" fill=\"#000000\">samples = 166</text>\n<text text-anchor=\"middle\" x=\"1060\" y=\"-840.8\" font-family=\"Helvetica,sans-Serif\" font-size=\"14.00\" fill=\"#000000\">value = [146, 20]</text>\n<text text-anchor=\"middle\" x=\"1060\" y=\"-825.8\" font-family=\"Helvetica,sans-Serif\" font-size=\"14.00\" fill=\"#000000\">class = malignant</text>\n</g>\n<!-- 0&#45;&gt;20 -->\n<g id=\"edge20\" class=\"edge\">\n<title>0&#45;&gt;20</title>\n<path fill=\"none\" stroke=\"#000000\" d=\"M944.2558,-936.8796C958.7542,-927.1868 974.2965,-916.7961 989.1363,-906.8752\"/>\n<polygon fill=\"#000000\" stroke=\"#000000\" points=\"991.4113,-909.5644 997.7794,-901.0969 987.5208,-903.7451 991.4113,-909.5644\"/>\n<text text-anchor=\"middle\" x=\"992.9082\" y=\"-921.9178\" font-family=\"Helvetica,sans-Serif\" font-size=\"14.00\" fill=\"#000000\">False</text>\n</g>\n<!-- 2 -->\n<g id=\"node3\" class=\"node\">\n<title>2</title>\n<polygon fill=\"#3fa0e6\" stroke=\"#000000\" points=\"586,-782 446,-782 446,-699 586,-699 586,-782\"/>\n<text text-anchor=\"middle\" x=\"516\" y=\"-766.8\" font-family=\"Helvetica,sans-Serif\" font-size=\"14.00\" fill=\"#000000\">area error &lt;= 42.19</text>\n<text text-anchor=\"middle\" x=\"516\" y=\"-751.8\" font-family=\"Helvetica,sans-Serif\" font-size=\"14.00\" fill=\"#000000\">gini = 0.054</text>\n<text text-anchor=\"middle\" x=\"516\" y=\"-736.8\" font-family=\"Helvetica,sans-Serif\" font-size=\"14.00\" fill=\"#000000\">samples = 252</text>\n<text text-anchor=\"middle\" x=\"516\" y=\"-721.8\" font-family=\"Helvetica,sans-Serif\" font-size=\"14.00\" fill=\"#000000\">value = [7, 245]</text>\n<text text-anchor=\"middle\" x=\"516\" y=\"-706.8\" font-family=\"Helvetica,sans-Serif\" font-size=\"14.00\" fill=\"#000000\">class = benign</text>\n</g>\n<!-- 1&#45;&gt;2 -->\n<g id=\"edge2\" class=\"edge\">\n<title>1&#45;&gt;2</title>\n<path fill=\"none\" stroke=\"#000000\" d=\"M671.2325,-821.5205C646.974,-808.8592 619.8366,-794.6954 595.1199,-781.795\"/>\n<polygon fill=\"#000000\" stroke=\"#000000\" points=\"596.6177,-778.6288 586.1331,-777.1045 593.3788,-784.8344 596.6177,-778.6288\"/>\n</g>\n<!-- 17 -->\n<g id=\"node18\" class=\"node\">\n<title>17</title>\n<polygon fill=\"#eeab7b\" stroke=\"#000000\" points=\"828,-782 660,-782 660,-699 828,-699 828,-782\"/>\n<text text-anchor=\"middle\" x=\"744\" y=\"-766.8\" font-family=\"Helvetica,sans-Serif\" font-size=\"14.00\" fill=\"#000000\">worst texture &lt;= 26.005</text>\n<text text-anchor=\"middle\" x=\"744\" y=\"-751.8\" font-family=\"Helvetica,sans-Serif\" font-size=\"14.00\" fill=\"#000000\">gini = 0.375</text>\n<text text-anchor=\"middle\" x=\"744\" y=\"-736.8\" font-family=\"Helvetica,sans-Serif\" font-size=\"14.00\" fill=\"#000000\">samples = 8</text>\n<text text-anchor=\"middle\" x=\"744\" y=\"-721.8\" font-family=\"Helvetica,sans-Serif\" font-size=\"14.00\" fill=\"#000000\">value = [6, 2]</text>\n<text text-anchor=\"middle\" x=\"744\" y=\"-706.8\" font-family=\"Helvetica,sans-Serif\" font-size=\"14.00\" fill=\"#000000\">class = malignant</text>\n</g>\n<!-- 1&#45;&gt;17 -->\n<g id=\"edge17\" class=\"edge\">\n<title>1&#45;&gt;17</title>\n<path fill=\"none\" stroke=\"#000000\" d=\"M744,-817.8796C744,-809.6838 744,-800.9891 744,-792.5013\"/>\n<polygon fill=\"#000000\" stroke=\"#000000\" points=\"747.5001,-792.298 744,-782.2981 740.5001,-792.2981 747.5001,-792.298\"/>\n</g>\n<!-- 3 -->\n<g id=\"node4\" class=\"node\">\n<title>3</title>\n<polygon fill=\"#3c9fe5\" stroke=\"#000000\" points=\"389.5,-663 186.5,-663 186.5,-580 389.5,-580 389.5,-663\"/>\n<text text-anchor=\"middle\" x=\"288\" y=\"-647.8\" font-family=\"Helvetica,sans-Serif\" font-size=\"14.00\" fill=\"#000000\">worst compactness &lt;= 0.454</text>\n<text text-anchor=\"middle\" x=\"288\" y=\"-632.8\" font-family=\"Helvetica,sans-Serif\" font-size=\"14.00\" fill=\"#000000\">gini = 0.032</text>\n<text text-anchor=\"middle\" x=\"288\" y=\"-617.8\" font-family=\"Helvetica,sans-Serif\" font-size=\"14.00\" fill=\"#000000\">samples = 247</text>\n<text text-anchor=\"middle\" x=\"288\" y=\"-602.8\" font-family=\"Helvetica,sans-Serif\" font-size=\"14.00\" fill=\"#000000\">value = [4, 243]</text>\n<text text-anchor=\"middle\" x=\"288\" y=\"-587.8\" font-family=\"Helvetica,sans-Serif\" font-size=\"14.00\" fill=\"#000000\">class = benign</text>\n</g>\n<!-- 2&#45;&gt;3 -->\n<g id=\"edge3\" class=\"edge\">\n<title>2&#45;&gt;3</title>\n<path fill=\"none\" stroke=\"#000000\" d=\"M445.7321,-703.8251C423.9006,-692.4306 399.5472,-679.7198 376.6339,-667.7607\"/>\n<polygon fill=\"#000000\" stroke=\"#000000\" points=\"378.0792,-664.567 367.5945,-663.0428 374.8402,-670.7726 378.0792,-664.567\"/>\n</g>\n<!-- 14 -->\n<g id=\"node15\" class=\"node\">\n<title>14</title>\n<polygon fill=\"#f6d5bd\" stroke=\"#000000\" points=\"624,-663 408,-663 408,-580 624,-580 624,-663\"/>\n<text text-anchor=\"middle\" x=\"516\" y=\"-647.8\" font-family=\"Helvetica,sans-Serif\" font-size=\"14.00\" fill=\"#000000\">mean concave points &lt;= 0.029</text>\n<text text-anchor=\"middle\" x=\"516\" y=\"-632.8\" font-family=\"Helvetica,sans-Serif\" font-size=\"14.00\" fill=\"#000000\">gini = 0.48</text>\n<text text-anchor=\"middle\" x=\"516\" y=\"-617.8\" font-family=\"Helvetica,sans-Serif\" font-size=\"14.00\" fill=\"#000000\">samples = 5</text>\n<text text-anchor=\"middle\" x=\"516\" y=\"-602.8\" font-family=\"Helvetica,sans-Serif\" font-size=\"14.00\" fill=\"#000000\">value = [3, 2]</text>\n<text text-anchor=\"middle\" x=\"516\" y=\"-587.8\" font-family=\"Helvetica,sans-Serif\" font-size=\"14.00\" fill=\"#000000\">class = malignant</text>\n</g>\n<!-- 2&#45;&gt;14 -->\n<g id=\"edge14\" class=\"edge\">\n<title>2&#45;&gt;14</title>\n<path fill=\"none\" stroke=\"#000000\" d=\"M516,-698.8796C516,-690.6838 516,-681.9891 516,-673.5013\"/>\n<polygon fill=\"#000000\" stroke=\"#000000\" points=\"519.5001,-673.298 516,-663.2981 512.5001,-673.2981 519.5001,-673.298\"/>\n</g>\n<!-- 4 -->\n<g id=\"node5\" class=\"node\">\n<title>4</title>\n<polygon fill=\"#3b9ee5\" stroke=\"#000000\" points=\"228,-544 60,-544 60,-461 228,-461 228,-544\"/>\n<text text-anchor=\"middle\" x=\"144\" y=\"-528.8\" font-family=\"Helvetica,sans-Serif\" font-size=\"14.00\" fill=\"#000000\">worst texture &lt;= 30.145</text>\n<text text-anchor=\"middle\" x=\"144\" y=\"-513.8\" font-family=\"Helvetica,sans-Serif\" font-size=\"14.00\" fill=\"#000000\">gini = 0.024</text>\n<text text-anchor=\"middle\" x=\"144\" y=\"-498.8\" font-family=\"Helvetica,sans-Serif\" font-size=\"14.00\" fill=\"#000000\">samples = 246</text>\n<text text-anchor=\"middle\" x=\"144\" y=\"-483.8\" font-family=\"Helvetica,sans-Serif\" font-size=\"14.00\" fill=\"#000000\">value = [3, 243]</text>\n<text text-anchor=\"middle\" x=\"144\" y=\"-468.8\" font-family=\"Helvetica,sans-Serif\" font-size=\"14.00\" fill=\"#000000\">class = benign</text>\n</g>\n<!-- 3&#45;&gt;4 -->\n<g id=\"edge4\" class=\"edge\">\n<title>3&#45;&gt;4</title>\n<path fill=\"none\" stroke=\"#000000\" d=\"M237.6358,-579.8796C226.3015,-570.513 214.1785,-560.4948 202.5419,-550.8784\"/>\n<polygon fill=\"#000000\" stroke=\"#000000\" points=\"204.5173,-547.9703 194.5792,-544.2981 200.0581,-553.3663 204.5173,-547.9703\"/>\n</g>\n<!-- 13 -->\n<g id=\"node14\" class=\"node\">\n<title>13</title>\n<polygon fill=\"#e58139\" stroke=\"#000000\" points=\"375.5,-536.5 246.5,-536.5 246.5,-468.5 375.5,-468.5 375.5,-536.5\"/>\n<text text-anchor=\"middle\" x=\"311\" y=\"-521.3\" font-family=\"Helvetica,sans-Serif\" font-size=\"14.00\" fill=\"#000000\">gini = 0.0</text>\n<text text-anchor=\"middle\" x=\"311\" y=\"-506.3\" font-family=\"Helvetica,sans-Serif\" font-size=\"14.00\" fill=\"#000000\">samples = 1</text>\n<text text-anchor=\"middle\" x=\"311\" y=\"-491.3\" font-family=\"Helvetica,sans-Serif\" font-size=\"14.00\" fill=\"#000000\">value = [1, 0]</text>\n<text text-anchor=\"middle\" x=\"311\" y=\"-476.3\" font-family=\"Helvetica,sans-Serif\" font-size=\"14.00\" fill=\"#000000\">class = malignant</text>\n</g>\n<!-- 3&#45;&gt;13 -->\n<g id=\"edge13\" class=\"edge\">\n<title>3&#45;&gt;13</title>\n<path fill=\"none\" stroke=\"#000000\" d=\"M296.0443,-579.8796C298.1058,-569.2134 300.3307,-557.7021 302.4182,-546.9015\"/>\n<polygon fill=\"#000000\" stroke=\"#000000\" points=\"305.9064,-547.2974 304.3677,-536.8149 299.0336,-545.969 305.9064,-547.2974\"/>\n</g>\n<!-- 5 -->\n<g id=\"node6\" class=\"node\">\n<title>5</title>\n<polygon fill=\"#399de5\" stroke=\"#000000\" points=\"116,-417.5 0,-417.5 0,-349.5 116,-349.5 116,-417.5\"/>\n<text text-anchor=\"middle\" x=\"58\" y=\"-402.3\" font-family=\"Helvetica,sans-Serif\" font-size=\"14.00\" fill=\"#000000\">gini = 0.0</text>\n<text text-anchor=\"middle\" x=\"58\" y=\"-387.3\" font-family=\"Helvetica,sans-Serif\" font-size=\"14.00\" fill=\"#000000\">samples = 215</text>\n<text text-anchor=\"middle\" x=\"58\" y=\"-372.3\" font-family=\"Helvetica,sans-Serif\" font-size=\"14.00\" fill=\"#000000\">value = [0, 215]</text>\n<text text-anchor=\"middle\" x=\"58\" y=\"-357.3\" font-family=\"Helvetica,sans-Serif\" font-size=\"14.00\" fill=\"#000000\">class = benign</text>\n</g>\n<!-- 4&#45;&gt;5 -->\n<g id=\"edge5\" class=\"edge\">\n<title>4&#45;&gt;5</title>\n<path fill=\"none\" stroke=\"#000000\" d=\"M113.9214,-460.8796C105.8157,-449.6636 97.0347,-437.5131 88.8857,-426.2372\"/>\n<polygon fill=\"#000000\" stroke=\"#000000\" points=\"91.4932,-423.8698 82.799,-417.8149 85.8197,-427.9701 91.4932,-423.8698\"/>\n</g>\n<!-- 6 -->\n<g id=\"node7\" class=\"node\">\n<title>6</title>\n<polygon fill=\"#4ea8e8\" stroke=\"#000000\" points=\"325.5,-425 134.5,-425 134.5,-342 325.5,-342 325.5,-425\"/>\n<text text-anchor=\"middle\" x=\"230\" y=\"-409.8\" font-family=\"Helvetica,sans-Serif\" font-size=\"14.00\" fill=\"#000000\">smoothness error &lt;= 0.004</text>\n<text text-anchor=\"middle\" x=\"230\" y=\"-394.8\" font-family=\"Helvetica,sans-Serif\" font-size=\"14.00\" fill=\"#000000\">gini = 0.175</text>\n<text text-anchor=\"middle\" x=\"230\" y=\"-379.8\" font-family=\"Helvetica,sans-Serif\" font-size=\"14.00\" fill=\"#000000\">samples = 31</text>\n<text text-anchor=\"middle\" x=\"230\" y=\"-364.8\" font-family=\"Helvetica,sans-Serif\" font-size=\"14.00\" fill=\"#000000\">value = [3, 28]</text>\n<text text-anchor=\"middle\" x=\"230\" y=\"-349.8\" font-family=\"Helvetica,sans-Serif\" font-size=\"14.00\" fill=\"#000000\">class = benign</text>\n</g>\n<!-- 4&#45;&gt;6 -->\n<g id=\"edge6\" class=\"edge\">\n<title>4&#45;&gt;6</title>\n<path fill=\"none\" stroke=\"#000000\" d=\"M174.0786,-460.8796C180.4572,-452.0534 187.254,-442.6485 193.8319,-433.5466\"/>\n<polygon fill=\"#000000\" stroke=\"#000000\" points=\"196.7723,-435.4532 199.793,-425.2981 191.0988,-431.353 196.7723,-435.4532\"/>\n</g>\n<!-- 7 -->\n<g id=\"node8\" class=\"node\">\n<title>7</title>\n<polygon fill=\"#e58139\" stroke=\"#000000\" points=\"214.5,-298.5 85.5,-298.5 85.5,-230.5 214.5,-230.5 214.5,-298.5\"/>\n<text text-anchor=\"middle\" x=\"150\" y=\"-283.3\" font-family=\"Helvetica,sans-Serif\" font-size=\"14.00\" fill=\"#000000\">gini = 0.0</text>\n<text text-anchor=\"middle\" x=\"150\" y=\"-268.3\" font-family=\"Helvetica,sans-Serif\" font-size=\"14.00\" fill=\"#000000\">samples = 2</text>\n<text text-anchor=\"middle\" x=\"150\" y=\"-253.3\" font-family=\"Helvetica,sans-Serif\" font-size=\"14.00\" fill=\"#000000\">value = [2, 0]</text>\n<text text-anchor=\"middle\" x=\"150\" y=\"-238.3\" font-family=\"Helvetica,sans-Serif\" font-size=\"14.00\" fill=\"#000000\">class = malignant</text>\n</g>\n<!-- 6&#45;&gt;7 -->\n<g id=\"edge7\" class=\"edge\">\n<title>6&#45;&gt;7</title>\n<path fill=\"none\" stroke=\"#000000\" d=\"M202.0199,-341.8796C194.4797,-330.6636 186.3113,-318.5131 178.7309,-307.2372\"/>\n<polygon fill=\"#000000\" stroke=\"#000000\" points=\"181.5527,-305.1612 173.0689,-298.8149 175.7434,-309.0667 181.5527,-305.1612\"/>\n</g>\n<!-- 8 -->\n<g id=\"node9\" class=\"node\">\n<title>8</title>\n<polygon fill=\"#40a0e6\" stroke=\"#000000\" points=\"387,-306 233,-306 233,-223 387,-223 387,-306\"/>\n<text text-anchor=\"middle\" x=\"310\" y=\"-290.8\" font-family=\"Helvetica,sans-Serif\" font-size=\"14.00\" fill=\"#000000\">mean texture &lt;= 23.2</text>\n<text text-anchor=\"middle\" x=\"310\" y=\"-275.8\" font-family=\"Helvetica,sans-Serif\" font-size=\"14.00\" fill=\"#000000\">gini = 0.067</text>\n<text text-anchor=\"middle\" x=\"310\" y=\"-260.8\" font-family=\"Helvetica,sans-Serif\" font-size=\"14.00\" fill=\"#000000\">samples = 29</text>\n<text text-anchor=\"middle\" x=\"310\" y=\"-245.8\" font-family=\"Helvetica,sans-Serif\" font-size=\"14.00\" fill=\"#000000\">value = [1, 28]</text>\n<text text-anchor=\"middle\" x=\"310\" y=\"-230.8\" font-family=\"Helvetica,sans-Serif\" font-size=\"14.00\" fill=\"#000000\">class = benign</text>\n</g>\n<!-- 6&#45;&gt;8 -->\n<g id=\"edge8\" class=\"edge\">\n<title>6&#45;&gt;8</title>\n<path fill=\"none\" stroke=\"#000000\" d=\"M257.9801,-341.8796C263.8531,-333.1434 270.1073,-323.8404 276.1679,-314.8253\"/>\n<polygon fill=\"#000000\" stroke=\"#000000\" points=\"279.2259,-316.5498 281.9005,-306.2981 273.4166,-312.6444 279.2259,-316.5498\"/>\n</g>\n<!-- 9 -->\n<g id=\"node10\" class=\"node\">\n<title>9</title>\n<polygon fill=\"#6ab6ec\" stroke=\"#000000\" points=\"316,-187 146,-187 146,-104 316,-104 316,-187\"/>\n<text text-anchor=\"middle\" x=\"231\" y=\"-171.8\" font-family=\"Helvetica,sans-Serif\" font-size=\"14.00\" fill=\"#000000\">mean texture &lt;= 22.385</text>\n<text text-anchor=\"middle\" x=\"231\" y=\"-156.8\" font-family=\"Helvetica,sans-Serif\" font-size=\"14.00\" fill=\"#000000\">gini = 0.32</text>\n<text text-anchor=\"middle\" x=\"231\" y=\"-141.8\" font-family=\"Helvetica,sans-Serif\" font-size=\"14.00\" fill=\"#000000\">samples = 5</text>\n<text text-anchor=\"middle\" x=\"231\" y=\"-126.8\" font-family=\"Helvetica,sans-Serif\" font-size=\"14.00\" fill=\"#000000\">value = [1, 4]</text>\n<text text-anchor=\"middle\" x=\"231\" y=\"-111.8\" font-family=\"Helvetica,sans-Serif\" font-size=\"14.00\" fill=\"#000000\">class = benign</text>\n</g>\n<!-- 8&#45;&gt;9 -->\n<g id=\"edge9\" class=\"edge\">\n<title>8&#45;&gt;9</title>\n<path fill=\"none\" stroke=\"#000000\" d=\"M282.3696,-222.8796C276.57,-214.1434 270.3941,-204.8404 264.4092,-195.8253\"/>\n<polygon fill=\"#000000\" stroke=\"#000000\" points=\"267.1951,-193.6935 258.7483,-187.2981 261.3632,-197.5652 267.1951,-193.6935\"/>\n</g>\n<!-- 12 -->\n<g id=\"node13\" class=\"node\">\n<title>12</title>\n<polygon fill=\"#399de5\" stroke=\"#000000\" points=\"444,-179.5 334,-179.5 334,-111.5 444,-111.5 444,-179.5\"/>\n<text text-anchor=\"middle\" x=\"389\" y=\"-164.3\" font-family=\"Helvetica,sans-Serif\" font-size=\"14.00\" fill=\"#000000\">gini = 0.0</text>\n<text text-anchor=\"middle\" x=\"389\" y=\"-149.3\" font-family=\"Helvetica,sans-Serif\" font-size=\"14.00\" fill=\"#000000\">samples = 24</text>\n<text text-anchor=\"middle\" x=\"389\" y=\"-134.3\" font-family=\"Helvetica,sans-Serif\" font-size=\"14.00\" fill=\"#000000\">value = [0, 24]</text>\n<text text-anchor=\"middle\" x=\"389\" y=\"-119.3\" font-family=\"Helvetica,sans-Serif\" font-size=\"14.00\" fill=\"#000000\">class = benign</text>\n</g>\n<!-- 8&#45;&gt;12 -->\n<g id=\"edge12\" class=\"edge\">\n<title>8&#45;&gt;12</title>\n<path fill=\"none\" stroke=\"#000000\" d=\"M337.6304,-222.8796C345.0763,-211.6636 353.1425,-199.5131 360.6282,-188.2372\"/>\n<polygon fill=\"#000000\" stroke=\"#000000\" points=\"363.6046,-190.082 366.2195,-179.8149 357.7727,-186.2104 363.6046,-190.082\"/>\n</g>\n<!-- 10 -->\n<g id=\"node11\" class=\"node\">\n<title>10</title>\n<polygon fill=\"#399de5\" stroke=\"#000000\" points=\"217,-68 107,-68 107,0 217,0 217,-68\"/>\n<text text-anchor=\"middle\" x=\"162\" y=\"-52.8\" font-family=\"Helvetica,sans-Serif\" font-size=\"14.00\" fill=\"#000000\">gini = 0.0</text>\n<text text-anchor=\"middle\" x=\"162\" y=\"-37.8\" font-family=\"Helvetica,sans-Serif\" font-size=\"14.00\" fill=\"#000000\">samples = 4</text>\n<text text-anchor=\"middle\" x=\"162\" y=\"-22.8\" font-family=\"Helvetica,sans-Serif\" font-size=\"14.00\" fill=\"#000000\">value = [0, 4]</text>\n<text text-anchor=\"middle\" x=\"162\" y=\"-7.8\" font-family=\"Helvetica,sans-Serif\" font-size=\"14.00\" fill=\"#000000\">class = benign</text>\n</g>\n<!-- 9&#45;&gt;10 -->\n<g id=\"edge10\" class=\"edge\">\n<title>9&#45;&gt;10</title>\n<path fill=\"none\" stroke=\"#000000\" d=\"M205.3069,-103.9815C199.8469,-95.1585 194.0716,-85.8258 188.5793,-76.9506\"/>\n<polygon fill=\"#000000\" stroke=\"#000000\" points=\"191.442,-74.9254 183.2035,-68.2637 185.4896,-78.609 191.442,-74.9254\"/>\n</g>\n<!-- 11 -->\n<g id=\"node12\" class=\"node\">\n<title>11</title>\n<polygon fill=\"#e58139\" stroke=\"#000000\" points=\"364.5,-68 235.5,-68 235.5,0 364.5,0 364.5,-68\"/>\n<text text-anchor=\"middle\" x=\"300\" y=\"-52.8\" font-family=\"Helvetica,sans-Serif\" font-size=\"14.00\" fill=\"#000000\">gini = 0.0</text>\n<text text-anchor=\"middle\" x=\"300\" y=\"-37.8\" font-family=\"Helvetica,sans-Serif\" font-size=\"14.00\" fill=\"#000000\">samples = 1</text>\n<text text-anchor=\"middle\" x=\"300\" y=\"-22.8\" font-family=\"Helvetica,sans-Serif\" font-size=\"14.00\" fill=\"#000000\">value = [1, 0]</text>\n<text text-anchor=\"middle\" x=\"300\" y=\"-7.8\" font-family=\"Helvetica,sans-Serif\" font-size=\"14.00\" fill=\"#000000\">class = malignant</text>\n</g>\n<!-- 9&#45;&gt;11 -->\n<g id=\"edge11\" class=\"edge\">\n<title>9&#45;&gt;11</title>\n<path fill=\"none\" stroke=\"#000000\" d=\"M256.6931,-103.9815C262.1531,-95.1585 267.9284,-85.8258 273.4207,-76.9506\"/>\n<polygon fill=\"#000000\" stroke=\"#000000\" points=\"276.5104,-78.609 278.7965,-68.2637 270.558,-74.9254 276.5104,-78.609\"/>\n</g>\n<!-- 15 -->\n<g id=\"node16\" class=\"node\">\n<title>15</title>\n<polygon fill=\"#399de5\" stroke=\"#000000\" points=\"549,-536.5 439,-536.5 439,-468.5 549,-468.5 549,-536.5\"/>\n<text text-anchor=\"middle\" x=\"494\" y=\"-521.3\" font-family=\"Helvetica,sans-Serif\" font-size=\"14.00\" fill=\"#000000\">gini = 0.0</text>\n<text text-anchor=\"middle\" x=\"494\" y=\"-506.3\" font-family=\"Helvetica,sans-Serif\" font-size=\"14.00\" fill=\"#000000\">samples = 2</text>\n<text text-anchor=\"middle\" x=\"494\" y=\"-491.3\" font-family=\"Helvetica,sans-Serif\" font-size=\"14.00\" fill=\"#000000\">value = [0, 2]</text>\n<text text-anchor=\"middle\" x=\"494\" y=\"-476.3\" font-family=\"Helvetica,sans-Serif\" font-size=\"14.00\" fill=\"#000000\">class = benign</text>\n</g>\n<!-- 14&#45;&gt;15 -->\n<g id=\"edge15\" class=\"edge\">\n<title>14&#45;&gt;15</title>\n<path fill=\"none\" stroke=\"#000000\" d=\"M508.3055,-579.8796C506.3336,-569.2134 504.2054,-557.7021 502.2087,-546.9015\"/>\n<polygon fill=\"#000000\" stroke=\"#000000\" points=\"505.6036,-546.012 500.3439,-536.8149 498.7203,-547.2846 505.6036,-546.012\"/>\n</g>\n<!-- 16 -->\n<g id=\"node17\" class=\"node\">\n<title>16</title>\n<polygon fill=\"#e58139\" stroke=\"#000000\" points=\"696.5,-536.5 567.5,-536.5 567.5,-468.5 696.5,-468.5 696.5,-536.5\"/>\n<text text-anchor=\"middle\" x=\"632\" y=\"-521.3\" font-family=\"Helvetica,sans-Serif\" font-size=\"14.00\" fill=\"#000000\">gini = 0.0</text>\n<text text-anchor=\"middle\" x=\"632\" y=\"-506.3\" font-family=\"Helvetica,sans-Serif\" font-size=\"14.00\" fill=\"#000000\">samples = 3</text>\n<text text-anchor=\"middle\" x=\"632\" y=\"-491.3\" font-family=\"Helvetica,sans-Serif\" font-size=\"14.00\" fill=\"#000000\">value = [3, 0]</text>\n<text text-anchor=\"middle\" x=\"632\" y=\"-476.3\" font-family=\"Helvetica,sans-Serif\" font-size=\"14.00\" fill=\"#000000\">class = malignant</text>\n</g>\n<!-- 14&#45;&gt;16 -->\n<g id=\"edge16\" class=\"edge\">\n<title>14&#45;&gt;16</title>\n<path fill=\"none\" stroke=\"#000000\" d=\"M556.5712,-579.8796C567.826,-568.3337 580.0461,-555.7976 591.3078,-544.2446\"/>\n<polygon fill=\"#000000\" stroke=\"#000000\" points=\"594.0762,-546.4188 598.5501,-536.8149 589.0636,-541.5326 594.0762,-546.4188\"/>\n</g>\n<!-- 18 -->\n<g id=\"node19\" class=\"node\">\n<title>18</title>\n<polygon fill=\"#399de5\" stroke=\"#000000\" points=\"752,-655.5 642,-655.5 642,-587.5 752,-587.5 752,-655.5\"/>\n<text text-anchor=\"middle\" x=\"697\" y=\"-640.3\" font-family=\"Helvetica,sans-Serif\" font-size=\"14.00\" fill=\"#000000\">gini = 0.0</text>\n<text text-anchor=\"middle\" x=\"697\" y=\"-625.3\" font-family=\"Helvetica,sans-Serif\" font-size=\"14.00\" fill=\"#000000\">samples = 2</text>\n<text text-anchor=\"middle\" x=\"697\" y=\"-610.3\" font-family=\"Helvetica,sans-Serif\" font-size=\"14.00\" fill=\"#000000\">value = [0, 2]</text>\n<text text-anchor=\"middle\" x=\"697\" y=\"-595.3\" font-family=\"Helvetica,sans-Serif\" font-size=\"14.00\" fill=\"#000000\">class = benign</text>\n</g>\n<!-- 17&#45;&gt;18 -->\n<g id=\"edge18\" class=\"edge\">\n<title>17&#45;&gt;18</title>\n<path fill=\"none\" stroke=\"#000000\" d=\"M727.5617,-698.8796C723.2621,-687.9935 718.6149,-676.227 714.2732,-665.2344\"/>\n<polygon fill=\"#000000\" stroke=\"#000000\" points=\"717.4818,-663.8301 710.553,-655.8149 710.9712,-666.4015 717.4818,-663.8301\"/>\n</g>\n<!-- 19 -->\n<g id=\"node20\" class=\"node\">\n<title>19</title>\n<polygon fill=\"#e58139\" stroke=\"#000000\" points=\"899.5,-655.5 770.5,-655.5 770.5,-587.5 899.5,-587.5 899.5,-655.5\"/>\n<text text-anchor=\"middle\" x=\"835\" y=\"-640.3\" font-family=\"Helvetica,sans-Serif\" font-size=\"14.00\" fill=\"#000000\">gini = 0.0</text>\n<text text-anchor=\"middle\" x=\"835\" y=\"-625.3\" font-family=\"Helvetica,sans-Serif\" font-size=\"14.00\" fill=\"#000000\">samples = 6</text>\n<text text-anchor=\"middle\" x=\"835\" y=\"-610.3\" font-family=\"Helvetica,sans-Serif\" font-size=\"14.00\" fill=\"#000000\">value = [6, 0]</text>\n<text text-anchor=\"middle\" x=\"835\" y=\"-595.3\" font-family=\"Helvetica,sans-Serif\" font-size=\"14.00\" fill=\"#000000\">class = malignant</text>\n</g>\n<!-- 17&#45;&gt;19 -->\n<g id=\"edge19\" class=\"edge\">\n<title>17&#45;&gt;19</title>\n<path fill=\"none\" stroke=\"#000000\" d=\"M775.8274,-698.8796C784.4884,-687.5536 793.8781,-675.2748 802.572,-663.9058\"/>\n<polygon fill=\"#000000\" stroke=\"#000000\" points=\"805.4649,-665.8846 808.7592,-655.8149 799.9044,-661.6324 805.4649,-665.8846\"/>\n</g>\n<!-- 21 -->\n<g id=\"node22\" class=\"node\">\n<title>21</title>\n<polygon fill=\"#d0e8f9\" stroke=\"#000000\" points=\"1140,-782 980,-782 980,-699 1140,-699 1140,-782\"/>\n<text text-anchor=\"middle\" x=\"1060\" y=\"-766.8\" font-family=\"Helvetica,sans-Serif\" font-size=\"14.00\" fill=\"#000000\">worst texture &lt;= 23.74</text>\n<text text-anchor=\"middle\" x=\"1060\" y=\"-751.8\" font-family=\"Helvetica,sans-Serif\" font-size=\"14.00\" fill=\"#000000\">gini = 0.491</text>\n<text text-anchor=\"middle\" x=\"1060\" y=\"-736.8\" font-family=\"Helvetica,sans-Serif\" font-size=\"14.00\" fill=\"#000000\">samples = 30</text>\n<text text-anchor=\"middle\" x=\"1060\" y=\"-721.8\" font-family=\"Helvetica,sans-Serif\" font-size=\"14.00\" fill=\"#000000\">value = [13, 17]</text>\n<text text-anchor=\"middle\" x=\"1060\" y=\"-706.8\" font-family=\"Helvetica,sans-Serif\" font-size=\"14.00\" fill=\"#000000\">class = benign</text>\n</g>\n<!-- 20&#45;&gt;21 -->\n<g id=\"edge21\" class=\"edge\">\n<title>20&#45;&gt;21</title>\n<path fill=\"none\" stroke=\"#000000\" d=\"M1060,-817.8796C1060,-809.6838 1060,-800.9891 1060,-792.5013\"/>\n<polygon fill=\"#000000\" stroke=\"#000000\" points=\"1063.5001,-792.298 1060,-782.2981 1056.5001,-792.2981 1063.5001,-792.298\"/>\n</g>\n<!-- 26 -->\n<g id=\"node27\" class=\"node\">\n<title>26</title>\n<polygon fill=\"#e6843d\" stroke=\"#000000\" points=\"1398.5,-782 1247.5,-782 1247.5,-699 1398.5,-699 1398.5,-782\"/>\n<text text-anchor=\"middle\" x=\"1323\" y=\"-766.8\" font-family=\"Helvetica,sans-Serif\" font-size=\"14.00\" fill=\"#000000\">radius error &lt;= 0.192</text>\n<text text-anchor=\"middle\" x=\"1323\" y=\"-751.8\" font-family=\"Helvetica,sans-Serif\" font-size=\"14.00\" fill=\"#000000\">gini = 0.043</text>\n<text text-anchor=\"middle\" x=\"1323\" y=\"-736.8\" font-family=\"Helvetica,sans-Serif\" font-size=\"14.00\" fill=\"#000000\">samples = 136</text>\n<text text-anchor=\"middle\" x=\"1323\" y=\"-721.8\" font-family=\"Helvetica,sans-Serif\" font-size=\"14.00\" fill=\"#000000\">value = [133, 3]</text>\n<text text-anchor=\"middle\" x=\"1323\" y=\"-706.8\" font-family=\"Helvetica,sans-Serif\" font-size=\"14.00\" fill=\"#000000\">class = malignant</text>\n</g>\n<!-- 20&#45;&gt;26 -->\n<g id=\"edge26\" class=\"edge\">\n<title>20&#45;&gt;26</title>\n<path fill=\"none\" stroke=\"#000000\" d=\"M1132.5621,-826.6677C1165.2218,-811.8901 1203.9972,-794.3454 1238.0081,-778.9564\"/>\n<polygon fill=\"#000000\" stroke=\"#000000\" points=\"1239.7976,-781.9884 1247.4655,-774.6772 1236.9119,-775.6109 1239.7976,-781.9884\"/>\n</g>\n<!-- 22 -->\n<g id=\"node23\" class=\"node\">\n<title>22</title>\n<polygon fill=\"#399de5\" stroke=\"#000000\" points=\"1028,-655.5 918,-655.5 918,-587.5 1028,-587.5 1028,-655.5\"/>\n<text text-anchor=\"middle\" x=\"973\" y=\"-640.3\" font-family=\"Helvetica,sans-Serif\" font-size=\"14.00\" fill=\"#000000\">gini = 0.0</text>\n<text text-anchor=\"middle\" x=\"973\" y=\"-625.3\" font-family=\"Helvetica,sans-Serif\" font-size=\"14.00\" fill=\"#000000\">samples = 14</text>\n<text text-anchor=\"middle\" x=\"973\" y=\"-610.3\" font-family=\"Helvetica,sans-Serif\" font-size=\"14.00\" fill=\"#000000\">value = [0, 14]</text>\n<text text-anchor=\"middle\" x=\"973\" y=\"-595.3\" font-family=\"Helvetica,sans-Serif\" font-size=\"14.00\" fill=\"#000000\">class = benign</text>\n</g>\n<!-- 21&#45;&gt;22 -->\n<g id=\"edge22\" class=\"edge\">\n<title>21&#45;&gt;22</title>\n<path fill=\"none\" stroke=\"#000000\" d=\"M1029.5716,-698.8796C1021.2913,-687.5536 1012.3143,-675.2748 1004.0026,-663.9058\"/>\n<polygon fill=\"#000000\" stroke=\"#000000\" points=\"1006.8147,-661.822 998.0874,-655.8149 1001.1639,-665.9533 1006.8147,-661.822\"/>\n</g>\n<!-- 23 -->\n<g id=\"node24\" class=\"node\">\n<title>23</title>\n<polygon fill=\"#eb9e67\" stroke=\"#000000\" points=\"1249.5,-663 1046.5,-663 1046.5,-580 1249.5,-580 1249.5,-663\"/>\n<text text-anchor=\"middle\" x=\"1148\" y=\"-647.8\" font-family=\"Helvetica,sans-Serif\" font-size=\"14.00\" fill=\"#000000\">worst compactness &lt;= 0.263</text>\n<text text-anchor=\"middle\" x=\"1148\" y=\"-632.8\" font-family=\"Helvetica,sans-Serif\" font-size=\"14.00\" fill=\"#000000\">gini = 0.305</text>\n<text text-anchor=\"middle\" x=\"1148\" y=\"-617.8\" font-family=\"Helvetica,sans-Serif\" font-size=\"14.00\" fill=\"#000000\">samples = 16</text>\n<text text-anchor=\"middle\" x=\"1148\" y=\"-602.8\" font-family=\"Helvetica,sans-Serif\" font-size=\"14.00\" fill=\"#000000\">value = [13, 3]</text>\n<text text-anchor=\"middle\" x=\"1148\" y=\"-587.8\" font-family=\"Helvetica,sans-Serif\" font-size=\"14.00\" fill=\"#000000\">class = malignant</text>\n</g>\n<!-- 21&#45;&gt;23 -->\n<g id=\"edge23\" class=\"edge\">\n<title>21&#45;&gt;23</title>\n<path fill=\"none\" stroke=\"#000000\" d=\"M1090.7781,-698.8796C1097.3051,-690.0534 1104.2599,-680.6485 1110.9908,-671.5466\"/>\n<polygon fill=\"#000000\" stroke=\"#000000\" points=\"1113.9588,-673.4195 1117.0905,-663.2981 1108.3305,-669.2574 1113.9588,-673.4195\"/>\n</g>\n<!-- 24 -->\n<g id=\"node25\" class=\"node\">\n<title>24</title>\n<polygon fill=\"#399de5\" stroke=\"#000000\" points=\"1130,-536.5 1020,-536.5 1020,-468.5 1130,-468.5 1130,-536.5\"/>\n<text text-anchor=\"middle\" x=\"1075\" y=\"-521.3\" font-family=\"Helvetica,sans-Serif\" font-size=\"14.00\" fill=\"#000000\">gini = 0.0</text>\n<text text-anchor=\"middle\" x=\"1075\" y=\"-506.3\" font-family=\"Helvetica,sans-Serif\" font-size=\"14.00\" fill=\"#000000\">samples = 3</text>\n<text text-anchor=\"middle\" x=\"1075\" y=\"-491.3\" font-family=\"Helvetica,sans-Serif\" font-size=\"14.00\" fill=\"#000000\">value = [0, 3]</text>\n<text text-anchor=\"middle\" x=\"1075\" y=\"-476.3\" font-family=\"Helvetica,sans-Serif\" font-size=\"14.00\" fill=\"#000000\">class = benign</text>\n</g>\n<!-- 23&#45;&gt;24 -->\n<g id=\"edge24\" class=\"edge\">\n<title>23&#45;&gt;24</title>\n<path fill=\"none\" stroke=\"#000000\" d=\"M1122.4681,-579.8796C1115.6552,-568.7735 1108.2802,-556.7513 1101.4206,-545.5691\"/>\n<polygon fill=\"#000000\" stroke=\"#000000\" points=\"1104.2628,-543.5087 1096.0503,-536.8149 1098.296,-547.1691 1104.2628,-543.5087\"/>\n</g>\n<!-- 25 -->\n<g id=\"node26\" class=\"node\">\n<title>25</title>\n<polygon fill=\"#e58139\" stroke=\"#000000\" points=\"1277.5,-536.5 1148.5,-536.5 1148.5,-468.5 1277.5,-468.5 1277.5,-536.5\"/>\n<text text-anchor=\"middle\" x=\"1213\" y=\"-521.3\" font-family=\"Helvetica,sans-Serif\" font-size=\"14.00\" fill=\"#000000\">gini = 0.0</text>\n<text text-anchor=\"middle\" x=\"1213\" y=\"-506.3\" font-family=\"Helvetica,sans-Serif\" font-size=\"14.00\" fill=\"#000000\">samples = 13</text>\n<text text-anchor=\"middle\" x=\"1213\" y=\"-491.3\" font-family=\"Helvetica,sans-Serif\" font-size=\"14.00\" fill=\"#000000\">value = [13, 0]</text>\n<text text-anchor=\"middle\" x=\"1213\" y=\"-476.3\" font-family=\"Helvetica,sans-Serif\" font-size=\"14.00\" fill=\"#000000\">class = malignant</text>\n</g>\n<!-- 23&#45;&gt;25 -->\n<g id=\"edge25\" class=\"edge\">\n<title>23&#45;&gt;25</title>\n<path fill=\"none\" stroke=\"#000000\" d=\"M1170.7338,-579.8796C1176.7401,-568.8835 1183.237,-556.9893 1189.2933,-545.9015\"/>\n<polygon fill=\"#000000\" stroke=\"#000000\" points=\"1192.5345,-547.2689 1194.2565,-536.8149 1186.3912,-543.9133 1192.5345,-547.2689\"/>\n</g>\n<!-- 27 -->\n<g id=\"node28\" class=\"node\">\n<title>27</title>\n<polygon fill=\"#399de5\" stroke=\"#000000\" points=\"1378,-655.5 1268,-655.5 1268,-587.5 1378,-587.5 1378,-655.5\"/>\n<text text-anchor=\"middle\" x=\"1323\" y=\"-640.3\" font-family=\"Helvetica,sans-Serif\" font-size=\"14.00\" fill=\"#000000\">gini = 0.0</text>\n<text text-anchor=\"middle\" x=\"1323\" y=\"-625.3\" font-family=\"Helvetica,sans-Serif\" font-size=\"14.00\" fill=\"#000000\">samples = 2</text>\n<text text-anchor=\"middle\" x=\"1323\" y=\"-610.3\" font-family=\"Helvetica,sans-Serif\" font-size=\"14.00\" fill=\"#000000\">value = [0, 2]</text>\n<text text-anchor=\"middle\" x=\"1323\" y=\"-595.3\" font-family=\"Helvetica,sans-Serif\" font-size=\"14.00\" fill=\"#000000\">class = benign</text>\n</g>\n<!-- 26&#45;&gt;27 -->\n<g id=\"edge27\" class=\"edge\">\n<title>26&#45;&gt;27</title>\n<path fill=\"none\" stroke=\"#000000\" d=\"M1323,-698.8796C1323,-688.2134 1323,-676.7021 1323,-665.9015\"/>\n<polygon fill=\"#000000\" stroke=\"#000000\" points=\"1326.5001,-665.8149 1323,-655.8149 1319.5001,-665.815 1326.5001,-665.8149\"/>\n</g>\n<!-- 28 -->\n<g id=\"node29\" class=\"node\">\n<title>28</title>\n<polygon fill=\"#e5823a\" stroke=\"#000000\" points=\"1573.5,-663 1396.5,-663 1396.5,-580 1573.5,-580 1573.5,-663\"/>\n<text text-anchor=\"middle\" x=\"1485\" y=\"-647.8\" font-family=\"Helvetica,sans-Serif\" font-size=\"14.00\" fill=\"#000000\">worst concavity &lt;= 0.182</text>\n<text text-anchor=\"middle\" x=\"1485\" y=\"-632.8\" font-family=\"Helvetica,sans-Serif\" font-size=\"14.00\" fill=\"#000000\">gini = 0.015</text>\n<text text-anchor=\"middle\" x=\"1485\" y=\"-617.8\" font-family=\"Helvetica,sans-Serif\" font-size=\"14.00\" fill=\"#000000\">samples = 134</text>\n<text text-anchor=\"middle\" x=\"1485\" y=\"-602.8\" font-family=\"Helvetica,sans-Serif\" font-size=\"14.00\" fill=\"#000000\">value = [133, 1]</text>\n<text text-anchor=\"middle\" x=\"1485\" y=\"-587.8\" font-family=\"Helvetica,sans-Serif\" font-size=\"14.00\" fill=\"#000000\">class = malignant</text>\n</g>\n<!-- 26&#45;&gt;28 -->\n<g id=\"edge28\" class=\"edge\">\n<title>26&#45;&gt;28</title>\n<path fill=\"none\" stroke=\"#000000\" d=\"M1379.6597,-698.8796C1392.7316,-689.2774 1406.7359,-678.9903 1420.1273,-669.1534\"/>\n<polygon fill=\"#000000\" stroke=\"#000000\" points=\"1422.385,-671.8378 1428.3723,-663.0969 1418.2409,-666.1963 1422.385,-671.8378\"/>\n</g>\n<!-- 29 -->\n<g id=\"node30\" class=\"node\">\n<title>29</title>\n<polygon fill=\"#399de5\" stroke=\"#000000\" points=\"1471,-536.5 1361,-536.5 1361,-468.5 1471,-468.5 1471,-536.5\"/>\n<text text-anchor=\"middle\" x=\"1416\" y=\"-521.3\" font-family=\"Helvetica,sans-Serif\" font-size=\"14.00\" fill=\"#000000\">gini = 0.0</text>\n<text text-anchor=\"middle\" x=\"1416\" y=\"-506.3\" font-family=\"Helvetica,sans-Serif\" font-size=\"14.00\" fill=\"#000000\">samples = 1</text>\n<text text-anchor=\"middle\" x=\"1416\" y=\"-491.3\" font-family=\"Helvetica,sans-Serif\" font-size=\"14.00\" fill=\"#000000\">value = [0, 1]</text>\n<text text-anchor=\"middle\" x=\"1416\" y=\"-476.3\" font-family=\"Helvetica,sans-Serif\" font-size=\"14.00\" fill=\"#000000\">class = benign</text>\n</g>\n<!-- 28&#45;&gt;29 -->\n<g id=\"edge29\" class=\"edge\">\n<title>28&#45;&gt;29</title>\n<path fill=\"none\" stroke=\"#000000\" d=\"M1460.8671,-579.8796C1454.4275,-568.7735 1447.4566,-556.7513 1440.9729,-545.5691\"/>\n<polygon fill=\"#000000\" stroke=\"#000000\" points=\"1443.9409,-543.7102 1435.8969,-536.8149 1437.8852,-547.2215 1443.9409,-543.7102\"/>\n</g>\n<!-- 30 -->\n<g id=\"node31\" class=\"node\">\n<title>30</title>\n<polygon fill=\"#e58139\" stroke=\"#000000\" points=\"1618.5,-536.5 1489.5,-536.5 1489.5,-468.5 1618.5,-468.5 1618.5,-536.5\"/>\n<text text-anchor=\"middle\" x=\"1554\" y=\"-521.3\" font-family=\"Helvetica,sans-Serif\" font-size=\"14.00\" fill=\"#000000\">gini = 0.0</text>\n<text text-anchor=\"middle\" x=\"1554\" y=\"-506.3\" font-family=\"Helvetica,sans-Serif\" font-size=\"14.00\" fill=\"#000000\">samples = 133</text>\n<text text-anchor=\"middle\" x=\"1554\" y=\"-491.3\" font-family=\"Helvetica,sans-Serif\" font-size=\"14.00\" fill=\"#000000\">value = [133, 0]</text>\n<text text-anchor=\"middle\" x=\"1554\" y=\"-476.3\" font-family=\"Helvetica,sans-Serif\" font-size=\"14.00\" fill=\"#000000\">class = malignant</text>\n</g>\n<!-- 28&#45;&gt;30 -->\n<g id=\"edge30\" class=\"edge\">\n<title>28&#45;&gt;30</title>\n<path fill=\"none\" stroke=\"#000000\" d=\"M1509.1329,-579.8796C1515.5725,-568.7735 1522.5434,-556.7513 1529.0271,-545.5691\"/>\n<polygon fill=\"#000000\" stroke=\"#000000\" points=\"1532.1148,-547.2215 1534.1031,-536.8149 1526.0591,-543.7102 1532.1148,-547.2215\"/>\n</g>\n</g>\n</svg>\n"
          },
          "metadata": {},
          "execution_count": 189
        }
      ]
    },
    {
      "cell_type": "code",
      "source": [
        "from sklearn.ensemble import RandomForestClassifier\n",
        "model = RandomForestClassifier().fit(x_train, y_train)\n",
        "model.score(x_train, y_train) , model.score(x_test, y_test)"
      ],
      "metadata": {
        "colab": {
          "base_uri": "https://localhost:8080/"
        },
        "id": "CEUWdcBuOX5v",
        "outputId": "9f2b7a23-896e-4590-c442-7e3209a8bf3a"
      },
      "execution_count": 190,
      "outputs": [
        {
          "output_type": "execute_result",
          "data": {
            "text/plain": [
              "(1.0, 0.972027972027972)"
            ]
          },
          "metadata": {},
          "execution_count": 190
        }
      ]
    },
    {
      "cell_type": "code",
      "source": [
        "x_train, x_test, y_train, y_test = train_test_split(boston['data'], boston['target'], random_state=0)\n",
        "from sklearn.linear_model import LinearRegression\n",
        "model = LinearRegression().fit(x_train, y_train)\n",
        "print('LinearRegression', model.score(x_train, y_train), model.score(x_test, y_test))\n",
        "\n",
        "from sklearn.ensemble import RandomForestRegressor\n",
        "model = RandomForestRegressor().fit(x_train, y_train)\n",
        "model.score(x_train, y_train), model.score(x_test, y_test)\n",
        "print('RandomForestRegressor', model.score(x_train, y_train), model.score(x_test, y_test))\n",
        "\n",
        "from sklearn.ensemble import GradientBoostingRegressor\n",
        "model = GradientBoostingRegressor().fit(x_train, y_train)\n",
        "model.score(x_train, y_train), model.score(x_test, y_test)\n",
        "print('GradientBoostingRegressor', model.score(x_train, y_train), model.score(x_test, y_test))"
      ],
      "metadata": {
        "colab": {
          "base_uri": "https://localhost:8080/"
        },
        "id": "z8yEK_c0X5VH",
        "outputId": "85546bca-e06a-4fb7-b20b-4c71f71f2386"
      },
      "execution_count": 192,
      "outputs": [
        {
          "output_type": "stream",
          "name": "stdout",
          "text": [
            "LinearRegression 0.7697699488741149 0.635463843320211\n",
            "RandomForestRegressor 0.9840373494970759 0.8259219000167729\n",
            "GradientBoostingRegressor 0.9829864654169255 0.8164668875216365\n"
          ]
        }
      ]
    },
    {
      "cell_type": "code",
      "source": [
        ""
      ],
      "metadata": {
        "id": "DpSSBxdhYFWw"
      },
      "execution_count": null,
      "outputs": []
    }
  ]
}